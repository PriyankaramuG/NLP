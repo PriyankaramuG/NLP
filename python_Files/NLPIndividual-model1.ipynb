{
 "cells": [
  {
   "cell_type": "markdown",
   "metadata": {},
   "source": [
    "# Topic: Research Papers Classification \n",
    "\n",
    "\n",
    "Research Papers Classification comprises of six labels i.e., Computer Science, Physics, Mathematics, Statistics, Quantitative Biology, Quantitative Finance with approximately 30,000 records\n",
    "\n",
    "I am building the classification using **LSTM** using **Keras python library** with below two variation :\n",
    "- Model without pre-trained word embedding/with pre-trained word embedding using GloVe(glove.6B.100d.txt).\n",
    "- Model with two optimizers i,e Adam & SGD with the pre-trained word embedding and comparison between them.\n",
    "\n",
    "To evaluate and test the model, i have constructed the *' confusion matrix '* along with *' loss vs epoch and accuracy vs epoch '* plots\n",
    "\n",
    "Finally, i am testing the saved model against the unseen data which is in test.csv."
   ]
  },
  {
   "cell_type": "markdown",
   "metadata": {},
   "source": [
    "# Step 1: Data Visualization\n",
    "\n",
    "\n",
    "In this step i am checking for null values, distribution of labels and balance of the data across the labels"
   ]
  },
  {
   "cell_type": "code",
   "execution_count": 1,
   "metadata": {},
   "outputs": [
    {
     "name": "stdout",
     "output_type": "stream",
     "text": [
      "INFO:tensorflow:Enabling eager execution\n",
      "INFO:tensorflow:Enabling v2 tensorshape\n",
      "INFO:tensorflow:Enabling resource variables\n",
      "INFO:tensorflow:Enabling tensor equality\n",
      "INFO:tensorflow:Enabling control flow v2\n"
     ]
    }
   ],
   "source": [
    "#importing all the dependencies\n",
    "from numpy import array\n",
    "from keras.preprocessing.text import one_hot\n",
    "from keras.preprocessing.sequence import pad_sequences\n",
    "from keras.models import Sequential\n",
    "from keras.layers.core import Activation, Dropout, Dense\n",
    "from keras.layers import Flatten, LSTM\n",
    "from keras.layers import GlobalMaxPooling1D\n",
    "from keras.models import Model\n",
    "from keras.layers.embeddings import Embedding\n",
    "from sklearn.model_selection import train_test_split\n",
    "from keras.preprocessing.text import Tokenizer\n",
    "from keras.layers import Input\n",
    "from keras.layers.merge import Concatenate\n",
    "import pandas as pd\n",
    "import numpy as np\n",
    "import re\n",
    "import matplotlib.pyplot as plt\n",
    "import seaborn as sns\n",
    "from numpy import array\n",
    "from numpy import asarray\n",
    "from numpy import zeros\n"
   ]
  },
  {
   "cell_type": "markdown",
   "metadata": {},
   "source": [
    "Path of the :\n",
    "- Test and Train data\n",
    "- GloVe embedding file \n",
    "- Saved model\n",
    "\n",
    "**change the path to run the experiement in your local**"
   ]
  },
  {
   "cell_type": "code",
   "execution_count": 2,
   "metadata": {},
   "outputs": [],
   "source": [
    "train_respapers = pd.read_csv('../NLPCourseWork/ResearchPapersDataset/train.csv')\n",
    "test_respapers = pd.read_csv('../NLPCourseWork/ResearchPapersDataset/test.csv')\n",
    "modelpath_withoutPretrainEmb=\"..\\\\NLPCourseWork\\\\ModelWithoutPretrainEmb.hdf5\"\n",
    "modelpath_withPretrainEmb=\"..\\\\NLPCourseWork\\\\ModelWithPretrainEmb.hdf5\"\n",
    "glovepath_file='..\\\\NLPCourseWork\\\\glove.6B.100d.txt'"
   ]
  },
  {
   "cell_type": "code",
   "execution_count": 3,
   "metadata": {
    "colab": {
     "base_uri": "https://localhost:8080/",
     "height": 296
    },
    "executionInfo": {
     "elapsed": 465,
     "status": "ok",
     "timestamp": 1618770920340,
     "user": {
      "displayName": "Priyanka r",
      "photoUrl": "https://lh3.googleusercontent.com/a-/AOh14GgaUYS2fg6dH-H1F0UFHSjiqCjjplyS1ieEaYL9GA=s64",
      "userId": "10955679455878247208"
     },
     "user_tz": -60
    },
    "id": "xvfrxyq6P1zz",
    "outputId": "9bb6ca6f-7c09-40f5-c5db-fd0c25dbe010"
   },
   "outputs": [
    {
     "name": "stdout",
     "output_type": "stream",
     "text": [
      "Number of rows in data = 20972\n",
      "Number of columns in data = 9\n",
      "\n",
      "\n",
      "**Sample data:**\n"
     ]
    },
    {
     "data": {
      "text/html": [
       "<div>\n",
       "<style scoped>\n",
       "    .dataframe tbody tr th:only-of-type {\n",
       "        vertical-align: middle;\n",
       "    }\n",
       "\n",
       "    .dataframe tbody tr th {\n",
       "        vertical-align: top;\n",
       "    }\n",
       "\n",
       "    .dataframe thead th {\n",
       "        text-align: right;\n",
       "    }\n",
       "</style>\n",
       "<table border=\"1\" class=\"dataframe\">\n",
       "  <thead>\n",
       "    <tr style=\"text-align: right;\">\n",
       "      <th></th>\n",
       "      <th>ID</th>\n",
       "      <th>TITLE</th>\n",
       "      <th>ABSTRACT</th>\n",
       "      <th>Computer Science</th>\n",
       "      <th>Physics</th>\n",
       "      <th>Mathematics</th>\n",
       "      <th>Statistics</th>\n",
       "      <th>Quantitative Biology</th>\n",
       "      <th>Quantitative Finance</th>\n",
       "    </tr>\n",
       "  </thead>\n",
       "  <tbody>\n",
       "    <tr>\n",
       "      <th>0</th>\n",
       "      <td>1</td>\n",
       "      <td>Reconstructing Subject-Specific Effect Maps</td>\n",
       "      <td>Predictive models allow subject-specific inf...</td>\n",
       "      <td>1</td>\n",
       "      <td>0</td>\n",
       "      <td>0</td>\n",
       "      <td>0</td>\n",
       "      <td>0</td>\n",
       "      <td>0</td>\n",
       "    </tr>\n",
       "    <tr>\n",
       "      <th>1</th>\n",
       "      <td>2</td>\n",
       "      <td>Rotation Invariance Neural Network</td>\n",
       "      <td>Rotation invariance and translation invarian...</td>\n",
       "      <td>1</td>\n",
       "      <td>0</td>\n",
       "      <td>0</td>\n",
       "      <td>0</td>\n",
       "      <td>0</td>\n",
       "      <td>0</td>\n",
       "    </tr>\n",
       "    <tr>\n",
       "      <th>2</th>\n",
       "      <td>3</td>\n",
       "      <td>Spherical polyharmonics and Poisson kernels fo...</td>\n",
       "      <td>We introduce and develop the notion of spher...</td>\n",
       "      <td>0</td>\n",
       "      <td>0</td>\n",
       "      <td>1</td>\n",
       "      <td>0</td>\n",
       "      <td>0</td>\n",
       "      <td>0</td>\n",
       "    </tr>\n",
       "    <tr>\n",
       "      <th>3</th>\n",
       "      <td>4</td>\n",
       "      <td>A finite element approximation for the stochas...</td>\n",
       "      <td>The stochastic Landau--Lifshitz--Gilbert (LL...</td>\n",
       "      <td>0</td>\n",
       "      <td>0</td>\n",
       "      <td>1</td>\n",
       "      <td>0</td>\n",
       "      <td>0</td>\n",
       "      <td>0</td>\n",
       "    </tr>\n",
       "    <tr>\n",
       "      <th>4</th>\n",
       "      <td>5</td>\n",
       "      <td>Comparative study of Discrete Wavelet Transfor...</td>\n",
       "      <td>Fourier-transform infra-red (FTIR) spectra o...</td>\n",
       "      <td>1</td>\n",
       "      <td>0</td>\n",
       "      <td>0</td>\n",
       "      <td>1</td>\n",
       "      <td>0</td>\n",
       "      <td>0</td>\n",
       "    </tr>\n",
       "  </tbody>\n",
       "</table>\n",
       "</div>"
      ],
      "text/plain": [
       "   ID                                              TITLE  \\\n",
       "0   1        Reconstructing Subject-Specific Effect Maps   \n",
       "1   2                 Rotation Invariance Neural Network   \n",
       "2   3  Spherical polyharmonics and Poisson kernels fo...   \n",
       "3   4  A finite element approximation for the stochas...   \n",
       "4   5  Comparative study of Discrete Wavelet Transfor...   \n",
       "\n",
       "                                            ABSTRACT  Computer Science  \\\n",
       "0    Predictive models allow subject-specific inf...                 1   \n",
       "1    Rotation invariance and translation invarian...                 1   \n",
       "2    We introduce and develop the notion of spher...                 0   \n",
       "3    The stochastic Landau--Lifshitz--Gilbert (LL...                 0   \n",
       "4    Fourier-transform infra-red (FTIR) spectra o...                 1   \n",
       "\n",
       "   Physics  Mathematics  Statistics  Quantitative Biology  \\\n",
       "0        0            0           0                     0   \n",
       "1        0            0           0                     0   \n",
       "2        0            1           0                     0   \n",
       "3        0            1           0                     0   \n",
       "4        0            0           1                     0   \n",
       "\n",
       "   Quantitative Finance  \n",
       "0                     0  \n",
       "1                     0  \n",
       "2                     0  \n",
       "3                     0  \n",
       "4                     0  "
      ]
     },
     "execution_count": 3,
     "metadata": {},
     "output_type": "execute_result"
    }
   ],
   "source": [
    "print(\"Number of rows in data =\",train_respapers.shape[0])\n",
    "print(\"Number of columns in data =\",train_respapers.shape[1])\n",
    "print(\"\\n\")\n",
    "print(\"**Sample data:**\")\n",
    "train_respapers.head()"
   ]
  },
  {
   "cell_type": "code",
   "execution_count": 4,
   "metadata": {
    "colab": {
     "base_uri": "https://localhost:8080/"
    },
    "executionInfo": {
     "elapsed": 568,
     "status": "ok",
     "timestamp": 1618773503245,
     "user": {
      "displayName": "Priyanka r",
      "photoUrl": "https://lh3.googleusercontent.com/a-/AOh14GgaUYS2fg6dH-H1F0UFHSjiqCjjplyS1ieEaYL9GA=s64",
      "userId": "10955679455878247208"
     },
     "user_tz": -60
    },
    "id": "eIrffKIoazWe",
    "outputId": "ebf18671-9504-41bb-c927-704c1642ff87"
   },
   "outputs": [
    {
     "name": "stdout",
     "output_type": "stream",
     "text": [
      "Check for Missing values:\n",
      " \n",
      "ID                      0\n",
      "TITLE                   0\n",
      "ABSTRACT                0\n",
      "Computer Science        0\n",
      "Physics                 0\n",
      "Mathematics             0\n",
      "Statistics              0\n",
      "Quantitative Biology    0\n",
      "Quantitative Finance    0\n",
      "dtype: int64\n"
     ]
    }
   ],
   "source": [
    "#check for missing values\n",
    "missing_values_check = train_respapers.isnull().sum()\n",
    "print(\"Check for Missing values:\\n \")\n",
    "print(missing_values_check)"
   ]
  },
  {
   "cell_type": "markdown",
   "metadata": {},
   "source": [
    "There are no any null or missing values in data and all the labels are tagged to data"
   ]
  },
  {
   "cell_type": "code",
   "execution_count": 5,
   "metadata": {
    "colab": {
     "base_uri": "https://localhost:8080/"
    },
    "executionInfo": {
     "elapsed": 607,
     "status": "ok",
     "timestamp": 1618773646059,
     "user": {
      "displayName": "Priyanka r",
      "photoUrl": "https://lh3.googleusercontent.com/a-/AOh14GgaUYS2fg6dH-H1F0UFHSjiqCjjplyS1ieEaYL9GA=s64",
      "userId": "10955679455878247208"
     },
     "user_tz": -60
    },
    "id": "cKduslOjbF-p",
    "outputId": "993b6c1c-74ef-413b-a7fa-44e2d1eed159"
   },
   "outputs": [
    {
     "name": "stdout",
     "output_type": "stream",
     "text": [
      "Total number of papers =  20972\n",
      "Number of papers with labels = 20972\n"
     ]
    }
   ],
   "source": [
    "#Check for the Papers without labels\n",
    "rowSums = train_respapers.iloc[:,3:].sum(axis=1)\n",
    "clean_comments_count = (rowSums==0).sum(axis=0)\n",
    "\n",
    "print(\"Total number of papers = \",len(train_respapers))\n",
    "print(\"Number of papers with labels =\",(len(train_respapers)-clean_comments_count))"
   ]
  },
  {
   "cell_type": "code",
   "execution_count": 6,
   "metadata": {
    "colab": {
     "base_uri": "https://localhost:8080/"
    },
    "executionInfo": {
     "elapsed": 516,
     "status": "ok",
     "timestamp": 1618773695313,
     "user": {
      "displayName": "Priyanka r",
      "photoUrl": "https://lh3.googleusercontent.com/a-/AOh14GgaUYS2fg6dH-H1F0UFHSjiqCjjplyS1ieEaYL9GA=s64",
      "userId": "10955679455878247208"
     },
     "user_tz": -60
    },
    "id": "YW-fUiqAbiO7",
    "outputId": "6bd9d25e-015b-4412-a95d-1205421d67f8"
   },
   "outputs": [
    {
     "name": "stdout",
     "output_type": "stream",
     "text": [
      "List of Labels:  ['Computer Science', 'Physics', 'Mathematics', 'Statistics', 'Quantitative Biology', 'Quantitative Finance']\n"
     ]
    }
   ],
   "source": [
    "#print the list of Target labels\n",
    "categories = list(train_respapers.columns.values)\n",
    "categories = categories[3:]\n",
    "print(\"List of Labels: \",categories)"
   ]
  },
  {
   "cell_type": "code",
   "execution_count": 7,
   "metadata": {
    "colab": {
     "base_uri": "https://localhost:8080/",
     "height": 225
    },
    "executionInfo": {
     "elapsed": 477,
     "status": "ok",
     "timestamp": 1618773826567,
     "user": {
      "displayName": "Priyanka r",
      "photoUrl": "https://lh3.googleusercontent.com/a-/AOh14GgaUYS2fg6dH-H1F0UFHSjiqCjjplyS1ieEaYL9GA=s64",
      "userId": "10955679455878247208"
     },
     "user_tz": -60
    },
    "id": "DO0pDLtDbrX7",
    "outputId": "692445c2-0bae-48bf-81c2-7503390bbca0"
   },
   "outputs": [
    {
     "name": "stdout",
     "output_type": "stream",
     "text": [
      "      Research Category  Number of Papers\n",
      "0      Computer Science              8594\n",
      "1               Physics              6013\n",
      "2           Mathematics              5618\n",
      "3            Statistics              5206\n",
      "4  Quantitative Biology               587\n",
      "5  Quantitative Finance               249\n"
     ]
    }
   ],
   "source": [
    "# Calculating number of research papers in each category\n",
    "counts = []\n",
    "for category in categories:\n",
    "    counts.append((category, train_respapers[category].sum()))\n",
    "df_stats = pd.DataFrame(counts, columns=['Research Category', 'Number of Papers'])\n",
    "print(df_stats)"
   ]
  },
  {
   "cell_type": "code",
   "execution_count": 8,
   "metadata": {
    "colab": {
     "base_uri": "https://localhost:8080/",
     "height": 585
    },
    "executionInfo": {
     "elapsed": 1125,
     "status": "ok",
     "timestamp": 1618774593573,
     "user": {
      "displayName": "Priyanka r",
      "photoUrl": "https://lh3.googleusercontent.com/a-/AOh14GgaUYS2fg6dH-H1F0UFHSjiqCjjplyS1ieEaYL9GA=s64",
      "userId": "10955679455878247208"
     },
     "user_tz": -60
    },
    "id": "o7gmr0BucIP-",
    "outputId": "0dbf66b3-0bbd-47bc-f065-e8cdf00d098b"
   },
   "outputs": [
    {
     "data": {
      "image/png": "[encoded data removed]",
      "text/plain": [
       "<Figure size 1080x576 with 1 Axes>"
      ]
     },
     "metadata": {
      "needs_background": "light"
     },
     "output_type": "display_data"
    }
   ],
   "source": [
    "\n",
    "plt.figure(figsize=(15,8))\n",
    "sns.set(style=\"whitegrid\")\n",
    "ax= sns.barplot(x=categories, y=train_respapers.iloc[:,3:].sum().values)\n",
    "\n",
    "plt.title(\"Papers in each category\", fontsize=20)\n",
    "plt.ylabel('Number of Papers', fontsize=16)\n",
    "plt.xlabel('Research Category', fontsize=16)\n",
    "\n",
    "#adding the text labels\n",
    "rects = ax.patches\n",
    "labels = train_respapers.iloc[:,3:].sum().values\n",
    "for rect, label in zip(rects, labels):\n",
    "    height = rect.get_height()\n",
    "    ax.text(rect.get_x() + rect.get_width()/2, height + 5, label, ha='center', va='bottom', fontsize=17)\n",
    "    ax.set_xticklabels(ax.get_xticklabels(), fontsize=13)\n",
    "plt.show()"
   ]
  },
  {
   "cell_type": "markdown",
   "metadata": {},
   "source": [
    "The data is very imbalanced with only 587 records with \"Quantitative Biology\" and 249 records with \"Quantitative Finance\""
   ]
  },
  {
   "cell_type": "code",
   "execution_count": 9,
   "metadata": {
    "colab": {
     "base_uri": "https://localhost:8080/",
     "height": 582
    },
    "executionInfo": {
     "elapsed": 1537,
     "status": "ok",
     "timestamp": 1618775264036,
     "user": {
      "displayName": "Priyanka r",
      "photoUrl": "https://lh3.googleusercontent.com/a-/AOh14GgaUYS2fg6dH-H1F0UFHSjiqCjjplyS1ieEaYL9GA=s64",
      "userId": "10955679455878247208"
     },
     "user_tz": -60
    },
    "id": "BfBNNY55Tk-B",
    "outputId": "1d4e92d6-0515-4fae-86ff-92b65740eb2a",
    "scrolled": true
   },
   "outputs": [
    {
     "data": {
      "image/png": "[encoded data removed]",
      "text/plain": [
       "<Figure size 1080x576 with 1 Axes>"
      ]
     },
     "metadata": {},
     "output_type": "display_data"
    }
   ],
   "source": [
    "rowSums = train_respapers.iloc[:,2:].sum(axis=1)\n",
    "\n",
    "multiLabel_counts = rowSums.value_counts().iloc[1:]\n",
    "\n",
    "plt.figure(figsize=(15,8))\n",
    "sns.set(style=\"whitegrid\")\n",
    "ax = sns.barplot(x=multiLabel_counts.index, y=multiLabel_counts.values)\n",
    "\n",
    "plt.title(\"Research Papers having multiple labels\", fontsize=20)\n",
    "plt.ylabel('Number of Papers', fontsize=16)\n",
    "plt.xlabel('Number of Categories', fontsize=16)\n",
    "\n",
    "#adding the text labels\n",
    "rects = ax.patches\n",
    "labels = multiLabel_counts.values\n",
    "for rect, label in zip(rects, labels):\n",
    "    height = rect.get_height()\n",
    "    ax.text(rect.get_x() + rect.get_width()/2, height + 5, label, ha='center', va='bottom')\n",
    "\n",
    "plt.show()"
   ]
  },
  {
   "cell_type": "markdown",
   "metadata": {},
   "source": [
    "In the above plot, I am trying show the no. of records having more than one categories where 4793 records have 2 categories and 251 records have 3 categories"
   ]
  },
  {
   "cell_type": "markdown",
   "metadata": {},
   "source": [
    "# Step 2 : Data Preprocessing\n",
    "\n",
    "I am performing below data preprocessing for input label which is ' **ABSTRACT** ':\n",
    "\n",
    "- Remove Punctuation\n",
    "- Decontracting the text"
   ]
  },
  {
   "cell_type": "code",
   "execution_count": 10,
   "metadata": {},
   "outputs": [],
   "source": [
    "# Load the regular expression library and spacy library\n",
    "import re\n",
    "# Remove punctuation\n",
    "def remove_punctuation(text):\n",
    "    text = re.sub('[,\\.!?]', '', text)\n",
    "    return text\n",
    "\n",
    "# decontract the text\n",
    "def clean_text(text):\n",
    "    text = text.lower()\n",
    "    text = re.sub(r\"what's\", \"what is \", text)\n",
    "    text = re.sub(r\"\\'s\", \" \", text)\n",
    "    text = re.sub(r\"\\'ve\", \" have \", text)\n",
    "    text = re.sub(r\"can't\", \"cannot \", text)\n",
    "    text = re.sub(r\"n't\", \" not \", text)\n",
    "    text = re.sub(r\"i'm\", \"i am \", text)\n",
    "    text = re.sub(r\"\\'re\", \" are \", text)\n",
    "    text = re.sub(r\"\\'d\", \" would \", text)\n",
    "    text = re.sub(r\"\\'ll\", \" will \", text)\n",
    "    text = re.sub(r\"\\'scuse\", \" excuse \", text)\n",
    "    #text = re.sub('\\s+', ' ', text)\n",
    "    text = text.strip(' ')\n",
    "    return text"
   ]
  },
  {
   "cell_type": "code",
   "execution_count": 11,
   "metadata": {},
   "outputs": [
    {
     "data": {
      "text/html": [
       "<div>\n",
       "<style scoped>\n",
       "    .dataframe tbody tr th:only-of-type {\n",
       "        vertical-align: middle;\n",
       "    }\n",
       "\n",
       "    .dataframe tbody tr th {\n",
       "        vertical-align: top;\n",
       "    }\n",
       "\n",
       "    .dataframe thead th {\n",
       "        text-align: right;\n",
       "    }\n",
       "</style>\n",
       "<table border=\"1\" class=\"dataframe\">\n",
       "  <thead>\n",
       "    <tr style=\"text-align: right;\">\n",
       "      <th></th>\n",
       "      <th>ID</th>\n",
       "      <th>TITLE</th>\n",
       "      <th>ABSTRACT</th>\n",
       "      <th>Computer Science</th>\n",
       "      <th>Physics</th>\n",
       "      <th>Mathematics</th>\n",
       "      <th>Statistics</th>\n",
       "      <th>Quantitative Biology</th>\n",
       "      <th>Quantitative Finance</th>\n",
       "    </tr>\n",
       "  </thead>\n",
       "  <tbody>\n",
       "    <tr>\n",
       "      <th>0</th>\n",
       "      <td>1</td>\n",
       "      <td>Reconstructing Subject-Specific Effect Maps</td>\n",
       "      <td>predictive models allow subject-specific infer...</td>\n",
       "      <td>1</td>\n",
       "      <td>0</td>\n",
       "      <td>0</td>\n",
       "      <td>0</td>\n",
       "      <td>0</td>\n",
       "      <td>0</td>\n",
       "    </tr>\n",
       "    <tr>\n",
       "      <th>1</th>\n",
       "      <td>2</td>\n",
       "      <td>Rotation Invariance Neural Network</td>\n",
       "      <td>rotation invariance and translation invariance...</td>\n",
       "      <td>1</td>\n",
       "      <td>0</td>\n",
       "      <td>0</td>\n",
       "      <td>0</td>\n",
       "      <td>0</td>\n",
       "      <td>0</td>\n",
       "    </tr>\n",
       "    <tr>\n",
       "      <th>2</th>\n",
       "      <td>3</td>\n",
       "      <td>Spherical polyharmonics and Poisson kernels fo...</td>\n",
       "      <td>we introduce and develop the notion of spheric...</td>\n",
       "      <td>0</td>\n",
       "      <td>0</td>\n",
       "      <td>1</td>\n",
       "      <td>0</td>\n",
       "      <td>0</td>\n",
       "      <td>0</td>\n",
       "    </tr>\n",
       "    <tr>\n",
       "      <th>3</th>\n",
       "      <td>4</td>\n",
       "      <td>A finite element approximation for the stochas...</td>\n",
       "      <td>the stochastic landau--lifshitz--gilbert (llg)...</td>\n",
       "      <td>0</td>\n",
       "      <td>0</td>\n",
       "      <td>1</td>\n",
       "      <td>0</td>\n",
       "      <td>0</td>\n",
       "      <td>0</td>\n",
       "    </tr>\n",
       "    <tr>\n",
       "      <th>4</th>\n",
       "      <td>5</td>\n",
       "      <td>Comparative study of Discrete Wavelet Transfor...</td>\n",
       "      <td>fourier-transform infra-red (ftir) spectra of ...</td>\n",
       "      <td>1</td>\n",
       "      <td>0</td>\n",
       "      <td>0</td>\n",
       "      <td>1</td>\n",
       "      <td>0</td>\n",
       "      <td>0</td>\n",
       "    </tr>\n",
       "  </tbody>\n",
       "</table>\n",
       "</div>"
      ],
      "text/plain": [
       "   ID                                              TITLE  \\\n",
       "0   1        Reconstructing Subject-Specific Effect Maps   \n",
       "1   2                 Rotation Invariance Neural Network   \n",
       "2   3  Spherical polyharmonics and Poisson kernels fo...   \n",
       "3   4  A finite element approximation for the stochas...   \n",
       "4   5  Comparative study of Discrete Wavelet Transfor...   \n",
       "\n",
       "                                            ABSTRACT  Computer Science  \\\n",
       "0  predictive models allow subject-specific infer...                 1   \n",
       "1  rotation invariance and translation invariance...                 1   \n",
       "2  we introduce and develop the notion of spheric...                 0   \n",
       "3  the stochastic landau--lifshitz--gilbert (llg)...                 0   \n",
       "4  fourier-transform infra-red (ftir) spectra of ...                 1   \n",
       "\n",
       "   Physics  Mathematics  Statistics  Quantitative Biology  \\\n",
       "0        0            0           0                     0   \n",
       "1        0            0           0                     0   \n",
       "2        0            1           0                     0   \n",
       "3        0            1           0                     0   \n",
       "4        0            0           1                     0   \n",
       "\n",
       "   Quantitative Finance  \n",
       "0                     0  \n",
       "1                     0  \n",
       "2                     0  \n",
       "3                     0  \n",
       "4                     0  "
      ]
     },
     "execution_count": 11,
     "metadata": {},
     "output_type": "execute_result"
    }
   ],
   "source": [
    "#calls the below functions to pre-process the \"ABSTRACT\" field\n",
    "#decontracting the text()\n",
    "train_respapers['ABSTRACT'] = train_respapers['ABSTRACT'].map(lambda com : clean_text(com))\n",
    "\n",
    "#remove_punctuation()\n",
    "train_respapers['ABSTRACT'] = train_respapers['ABSTRACT'].apply(lambda x: remove_punctuation(x))\n",
    "\n",
    "# Print out the first rows of papers\n",
    "train_respapers.head()"
   ]
  },
  {
   "cell_type": "code",
   "execution_count": 12,
   "metadata": {},
   "outputs": [
    {
     "name": "stdout",
     "output_type": "stream",
     "text": [
      "[[1 0 0 0 0 0]\n",
      " [1 0 0 0 0 0]\n",
      " [0 0 1 0 0 0]\n",
      " ...\n",
      " [1 0 0 0 0 0]\n",
      " [0 0 1 1 0 0]\n",
      " [0 0 1 1 0 0]]\n"
     ]
    }
   ],
   "source": [
    "#printing the label values\n",
    "research_labels = train_respapers[[\"Computer Science\", \"Physics\", \"Mathematics\", \"Statistics\", \"Quantitative Biology\", \"Quantitative Finance\"]]\n",
    "research_labels_val=research_labels.values\n",
    "print(research_labels_val)"
   ]
  },
  {
   "cell_type": "markdown",
   "metadata": {},
   "source": [
    "# Step 3: Prepare the Data\n",
    "\n",
    "- Splitting the dataset\n",
    "- Tokenizing the text with texts_to_sequence to transform words to numbers \n",
    "- Using Pad_sequences to ensure all the vectors are of same length\n",
    "- Creating the embedding matrix with pre-trained word embedding GloVe"
   ]
  },
  {
   "cell_type": "code",
   "execution_count": 13,
   "metadata": {},
   "outputs": [
    {
     "name": "stdout",
     "output_type": "stream",
     "text": [
      "(14680,)\n",
      "(14680, 6)\n",
      "(6292,)\n",
      "(6292, 6)\n"
     ]
    }
   ],
   "source": [
    "#splitting the data set into 30 and 70 ratio\n",
    "X_train, X_test, y_train, y_test = train_test_split(\n",
    "train_respapers['ABSTRACT'], research_labels_val, test_size=0.3, random_state=1234, shuffle=True)\n",
    "print(X_train.shape)\n",
    "print(y_train.shape)\n",
    "print(X_test.shape)\n",
    "print(y_test.shape)"
   ]
  },
  {
   "cell_type": "code",
   "execution_count": 14,
   "metadata": {},
   "outputs": [
    {
     "name": "stdout",
     "output_type": "stream",
     "text": [
      "Vocabulary size is  47336\n"
     ]
    }
   ],
   "source": [
    "#Split the text to tokens, using most 5000 frequent words and max len to 200\n",
    "tokenizer = Tokenizer(num_words=5000,lower=True)\n",
    "tokenizer.fit_on_texts(X_train)\n",
    "\n",
    "X_train = tokenizer.texts_to_sequences(X_train)\n",
    "X_test = tokenizer.texts_to_sequences(X_test)\n",
    "\n",
    "vocab_size = len(tokenizer.word_index) + 1\n",
    "\n",
    "maxlen = 200\n",
    "\n",
    "X_train = pad_sequences(X_train, padding='post', maxlen=maxlen)\n",
    "X_test = pad_sequences(X_test, padding='post', maxlen=maxlen)\n",
    "\n",
    "print(\"Vocabulary size is \",vocab_size)"
   ]
  },
  {
   "cell_type": "code",
   "execution_count": 15,
   "metadata": {},
   "outputs": [],
   "source": [
    "#function to create a embedding matrix\n",
    "def create_embedding_matrix(filepath, word_index, embedding_dim):\n",
    "    vocab_size = len(word_index) + 1  # Adding again 1 because of reserved 0 index\n",
    "    embedding_matrix = np.zeros((vocab_size, embedding_dim))\n",
    "\n",
    "    with open(filepath, encoding=\"utf8\") as f:\n",
    "        for line in f:\n",
    "            word, *vector = line.split()\n",
    "            if word in word_index:\n",
    "                idx = word_index[word] \n",
    "                embedding_matrix[idx] = np.array(\n",
    "                    vector, dtype=np.float32)[:embedding_dim]\n",
    "\n",
    "    return embedding_matrix"
   ]
  },
  {
   "cell_type": "code",
   "execution_count": 16,
   "metadata": {},
   "outputs": [
    {
     "name": "stdout",
     "output_type": "stream",
     "text": [
      "found 47336 word vectors\n"
     ]
    }
   ],
   "source": [
    "#Defining the embedding_dim to 100 for Glove and calling the function to create the \n",
    "#embedding matix which goes into the embedding layer\n",
    "embedding_dim = 100\n",
    "embedding_matrix = create_embedding_matrix(\n",
    "     glovepath_file,\n",
    "     tokenizer.word_index, embedding_dim)\n",
    "print('found %s word vectors' % len(embedding_matrix))"
   ]
  },
  {
   "cell_type": "markdown",
   "metadata": {},
   "source": [
    "# Step 4: Build the Model\n",
    "\n",
    "- I am creating the model with configurable parameter of pre-training embedding true or false\n",
    "\n",
    "- Creating the sequential model with\n",
    "\n",
    "  - Single LSTM layer with 0.2 of dropout to prevent the overfitting\n",
    "  - Dense layer with 6 outputs (6labels) with Sigmoid activation because my output is binary(0 or 1)"
   ]
  },
  {
   "cell_type": "code",
   "execution_count": 17,
   "metadata": {},
   "outputs": [],
   "source": [
    "# function that defines the model\n",
    "from keras import Sequential, Model\n",
    "from keras.layers import Embedding,LSTM, GlobalMaxPool1D,Conv1D,Bidirectional\n",
    "from keras.optimizers import Adam, SGD\n",
    "def get_model(pretrainedembedding):\n",
    "    model = Sequential()\n",
    "    if(pretrainedembedding==True):\n",
    "        model.add(Embedding(vocab_size, embedding_dim, weights=[embedding_matrix],trainable=False ,input_length=maxlen))\n",
    "      \n",
    "    else:\n",
    "        model.add(Embedding(vocab_size, embedding_dim ,input_length=maxlen))\n",
    "        \n",
    "    #model.add(Dropout(0.2))\n",
    "    #model.add(LSTM(128,name='lstm_layer',dropout=0.6))\n",
    "    model.add(LSTM(128,name='lstm_layer',dropout=0.2))\n",
    "    model.add(Dropout(0.2))\n",
    "    model.add(Dense(6, activation='sigmoid'))\n",
    "    return model\n",
    "   "
   ]
  },
  {
   "cell_type": "markdown",
   "metadata": {},
   "source": [
    "- I have defined the callback function to save the best model when validation loss is less\n",
    "- I am using 'binary_crossentropy' as i am classifying the multiple labels as my loss function with accuracy metric"
   ]
  },
  {
   "cell_type": "code",
   "execution_count": 18,
   "metadata": {},
   "outputs": [],
   "source": [
    "#function to fit the model \n",
    "from keras.callbacks import ModelCheckpoint\n",
    "def fit_model(model,path,opt):\n",
    "    cm_callback = ModelCheckpoint(path, save_best_only = True, monitor = 'val_loss', verbose = 1)\n",
    "    model.compile(loss='binary_crossentropy', optimizer=opt, metrics=['accuracy'])\n",
    "    history=model.fit(X_train, y_train, batch_size=32, epochs=10, verbose=1, validation_split=0.2,\n",
    "                  callbacks=[cm_callback],validation_data=(X_test, y_test))\n",
    "    return(history)"
   ]
  },
  {
   "cell_type": "code",
   "execution_count": 19,
   "metadata": {},
   "outputs": [
    {
     "name": "stdout",
     "output_type": "stream",
     "text": [
      "Model: \"sequential_1\"\n",
      "_________________________________________________________________\n",
      "Layer (type)                 Output Shape              Param #   \n",
      "=================================================================\n",
      "embedding_1 (Embedding)      (None, 200, 100)          4733600   \n",
      "_________________________________________________________________\n",
      "lstm_layer (LSTM)            (None, 128)               117248    \n",
      "_________________________________________________________________\n",
      "dropout_1 (Dropout)          (None, 128)               0         \n",
      "_________________________________________________________________\n",
      "dense_1 (Dense)              (None, 6)                 774       \n",
      "=================================================================\n",
      "Total params: 4,851,622\n",
      "Trainable params: 118,022\n",
      "Non-trainable params: 4,733,600\n",
      "_________________________________________________________________\n",
      "None\n"
     ]
    }
   ],
   "source": [
    "#getting the model for both with and without pre-trained embedding\n",
    "model_without_pretrainedEmb = get_model(pretrainedembedding=False)\n",
    "model_pretrainedEmb = get_model(pretrainedembedding=True)\n",
    "\n",
    "print(model_pretrainedEmb.summary())"
   ]
  },
  {
   "cell_type": "markdown",
   "metadata": {},
   "source": [
    "# Step 5: Train the Model\n",
    "\n",
    "Defines below three function:\n",
    "\n",
    "- Evaluate the model against the test data\n",
    "- To calculate the confusion matrix\n",
    "- Plot the metrics (loss vs epoch) and (accuracy vs epoch) for train and test data"
   ]
  },
  {
   "cell_type": "code",
   "execution_count": 20,
   "metadata": {},
   "outputs": [],
   "source": [
    "# takes path and message as the parameters to save the model and print the custom message\n",
    "import keras\n",
    "def evaluate(path,msg):\n",
    "    lstm_model = keras.models.load_model(path)\n",
    "    test_evaluate = lstm_model.evaluate(X_test, y_test, verbose=1)\n",
    "    print(\"Research Papers Test Score :\" +msg, test_evaluate[0])\n",
    "    print(\"Research Papers Test Accuracy :\" +msg, test_evaluate[1])"
   ]
  },
  {
   "cell_type": "code",
   "execution_count": 21,
   "metadata": {},
   "outputs": [],
   "source": [
    "# takes path and message as the parameters to save the model and print the custom message\n",
    "from sklearn.metrics import multilabel_confusion_matrix,classification_report\n",
    "def confusion_matrix(path,msg):\n",
    "    lstm_model = keras.models.load_model(path)\n",
    "    Y_pred = lstm_model.predict(X_test)\n",
    "    Y_pred  = np.where(Y_pred > 0.5, 1, 0)\n",
    "    print('Confusion Matrix of - ',msg)\n",
    "    target_names = ['Computer Science', 'Physics', 'Mathematics','Statistics','Quantitative Biology','Quantitative Finance']\n",
    "    confusionmatrix=multilabel_confusion_matrix(y_test, Y_pred)\n",
    "    print(confusionmatrix)\n",
    "    print('Classification Report')\n",
    "    print(classification_report(y_test, Y_pred, target_names=target_names,zero_division=0))\n",
    "    print(\"confusion matrix function\")"
   ]
  },
  {
   "cell_type": "code",
   "execution_count": 22,
   "metadata": {},
   "outputs": [],
   "source": [
    "# takes history of the fitted model and message as the parameters \n",
    "import matplotlib.pyplot as plt\n",
    "def plotmetrics(history,msg):\n",
    "    plt.plot(history.history['accuracy'])\n",
    "    plt.plot(history.history['val_accuracy'])\n",
    "\n",
    "    plt.title('model accuracy - '+msg)\n",
    "    plt.ylabel('accuracy')\n",
    "    plt.xlabel('epoch')\n",
    "    plt.legend(['train','test'], loc='upper left')\n",
    "    plt.show()\n",
    "\n",
    "    plt.plot(history.history['loss'])\n",
    "    plt.plot(history.history['val_loss'])\n",
    "\n",
    "    plt.title('model loss - '+msg)\n",
    "    plt.ylabel('loss')\n",
    "    plt.xlabel('epoch')\n",
    "    plt.legend(['train','test'], loc='upper left')\n",
    "    plt.show()"
   ]
  },
  {
   "cell_type": "markdown",
   "metadata": {},
   "source": [
    "\n",
    "**Fit Evaluate the model without Pre-trained word Embedding with adam optimizer**"
   ]
  },
  {
   "cell_type": "code",
   "execution_count": 23,
   "metadata": {},
   "outputs": [
    {
     "name": "stdout",
     "output_type": "stream",
     "text": [
      "Epoch 1/10\n",
      "WARNING:tensorflow:AutoGraph could not transform <bound method Dense.call of <keras.layers.core.Dense object at 0x00000212EF5D30A0>> and will run it as-is.\n",
      "Please report this to the TensorFlow team. When filing the bug, set the verbosity to 10 (on Linux, `export AUTOGRAPH_VERBOSITY=10`) and attach the full output.\n",
      "Cause: invalid syntax (tmpvzugmxze.py, line 48)\n",
      "To silence this warning, decorate the function with @tf.autograph.experimental.do_not_convert\n",
      "WARNING: AutoGraph could not transform <bound method Dense.call of <keras.layers.core.Dense object at 0x00000212EF5D30A0>> and will run it as-is.\n",
      "Please report this to the TensorFlow team. When filing the bug, set the verbosity to 10 (on Linux, `export AUTOGRAPH_VERBOSITY=10`) and attach the full output.\n",
      "Cause: invalid syntax (tmpvzugmxze.py, line 48)\n",
      "To silence this warning, decorate the function with @tf.autograph.experimental.do_not_convert\n",
      "367/367 [==============================] - 50s 105ms/step - loss: 0.4663 - accuracy: 0.3408 - val_loss: 0.4345 - val_accuracy: 0.4036\n",
      "\n",
      "Epoch 00001: val_loss improved from inf to 0.43450, saving model to ..\\NLPCourseWork\\ModelWithoutPretrainEmb.hdf5\n",
      "Epoch 2/10\n",
      "367/367 [==============================] - 39s 107ms/step - loss: 0.4338 - accuracy: 0.4200 - val_loss: 0.4300 - val_accuracy: 0.4145\n",
      "\n",
      "Epoch 00002: val_loss improved from 0.43450 to 0.42996, saving model to ..\\NLPCourseWork\\ModelWithoutPretrainEmb.hdf5\n",
      "Epoch 3/10\n",
      "367/367 [==============================] - 41s 111ms/step - loss: 0.4138 - accuracy: 0.4797 - val_loss: 0.4325 - val_accuracy: 0.4131\n",
      "\n",
      "Epoch 00003: val_loss did not improve from 0.42996\n",
      "Epoch 4/10\n",
      "367/367 [==============================] - 40s 108ms/step - loss: 0.4043 - accuracy: 0.4900 - val_loss: 0.3445 - val_accuracy: 0.6958\n",
      "\n",
      "Epoch 00004: val_loss improved from 0.42996 to 0.34450, saving model to ..\\NLPCourseWork\\ModelWithoutPretrainEmb.hdf5\n",
      "Epoch 5/10\n",
      "367/367 [==============================] - 41s 113ms/step - loss: 0.3167 - accuracy: 0.7084 - val_loss: 0.2986 - val_accuracy: 0.7245\n",
      "\n",
      "Epoch 00005: val_loss improved from 0.34450 to 0.29858, saving model to ..\\NLPCourseWork\\ModelWithoutPretrainEmb.hdf5\n",
      "Epoch 6/10\n",
      "367/367 [==============================] - 41s 113ms/step - loss: 0.3117 - accuracy: 0.7163 - val_loss: 0.3002 - val_accuracy: 0.7091\n",
      "\n",
      "Epoch 00006: val_loss did not improve from 0.29858\n",
      "Epoch 7/10\n",
      "367/367 [==============================] - 40s 110ms/step - loss: 0.2835 - accuracy: 0.7595 - val_loss: 0.2681 - val_accuracy: 0.7476\n",
      "\n",
      "Epoch 00007: val_loss improved from 0.29858 to 0.26807, saving model to ..\\NLPCourseWork\\ModelWithoutPretrainEmb.hdf5\n",
      "Epoch 8/10\n",
      "367/367 [==============================] - 42s 115ms/step - loss: 0.2496 - accuracy: 0.7848 - val_loss: 0.2643 - val_accuracy: 0.7602\n",
      "\n",
      "Epoch 00008: val_loss improved from 0.26807 to 0.26428, saving model to ..\\NLPCourseWork\\ModelWithoutPretrainEmb.hdf5\n",
      "Epoch 9/10\n",
      "367/367 [==============================] - 42s 116ms/step - loss: 0.2364 - accuracy: 0.7927 - val_loss: 0.2643 - val_accuracy: 0.7527\n",
      "\n",
      "Epoch 00009: val_loss improved from 0.26428 to 0.26425, saving model to ..\\NLPCourseWork\\ModelWithoutPretrainEmb.hdf5\n",
      "Epoch 10/10\n",
      "367/367 [==============================] - 42s 114ms/step - loss: 0.2204 - accuracy: 0.8049 - val_loss: 0.2649 - val_accuracy: 0.7520\n",
      "\n",
      "Epoch 00010: val_loss did not improve from 0.26425\n"
     ]
    }
   ],
   "source": [
    "\n",
    "ModelWithoutPretrainEmb_his=fit_model(model_without_pretrainedEmb,modelpath_withoutPretrainEmb,'adam')\n"
   ]
  },
  {
   "cell_type": "code",
   "execution_count": 24,
   "metadata": {},
   "outputs": [
    {
     "name": "stdout",
     "output_type": "stream",
     "text": [
      "The path of the saved model is ..\\NLPCourseWork\\ModelWithoutPretrainEmb.hdf5\n",
      "197/197 [==============================] - 7s 31ms/step - loss: 0.2583 - accuracy: 0.7670\n",
      "Research Papers Test Score :(Model without Pretrained Embedding) 0.2582894265651703\n",
      "Research Papers Test Accuracy :(Model without Pretrained Embedding) 0.7670057415962219\n",
      "Confusion Matrix of -  for model without pretrained embedding\n",
      "[[[2979  700]\n",
      "  [ 375 2238]]\n",
      "\n",
      " [[4252  230]\n",
      "  [ 352 1458]]\n",
      "\n",
      " [[4401  233]\n",
      "  [ 463 1195]]\n",
      "\n",
      " [[4667   92]\n",
      "  [1437   96]]\n",
      "\n",
      " [[6114    0]\n",
      "  [ 177    1]]\n",
      "\n",
      " [[6216    0]\n",
      "  [  76    0]]]\n",
      "Classification Report\n",
      "                      precision    recall  f1-score   support\n",
      "\n",
      "    Computer Science       0.76      0.86      0.81      2613\n",
      "             Physics       0.86      0.81      0.83      1810\n",
      "         Mathematics       0.84      0.72      0.77      1658\n",
      "          Statistics       0.51      0.06      0.11      1533\n",
      "Quantitative Biology       1.00      0.01      0.01       178\n",
      "Quantitative Finance       0.00      0.00      0.00        76\n",
      "\n",
      "           micro avg       0.80      0.63      0.71      7868\n",
      "           macro avg       0.66      0.41      0.42      7868\n",
      "        weighted avg       0.75      0.63      0.64      7868\n",
      "         samples avg       0.77      0.69      0.71      7868\n",
      "\n",
      "confusion matrix function\n"
     ]
    }
   ],
   "source": [
    "print(\"The path of the saved model is \"+modelpath_withoutPretrainEmb)\n",
    "evaluate(modelpath_withoutPretrainEmb,\"(Model without Pretrained Embedding)\")\n",
    "confusion_matrix(modelpath_withoutPretrainEmb,\"for model without pretrained embedding\")"
   ]
  },
  {
   "cell_type": "markdown",
   "metadata": {},
   "source": [
    "I have displayed the outcome in confusion matrix with the labels. 2238 are detected as computer science, 1458 as Physics, 1195 as matematics, 96 as statistics out of 6292 records. But unable to recongnize the labels with \"Quantitative biology\" and \"Quantitative Finance\". Below graph shows that loss is reducing and accuracy is increasing with overfit in the data."
   ]
  },
  {
   "cell_type": "code",
   "execution_count": 25,
   "metadata": {},
   "outputs": [
    {
     "data": {
      "image/png": "[encoded data removed]",
      "text/plain": [
       "<Figure size 432x288 with 1 Axes>"
      ]
     },
     "metadata": {},
     "output_type": "display_data"
    },
    {
     "data": {
      "image/png": "[encoded data removed]",
      "text/plain": [
       "<Figure size 432x288 with 1 Axes>"
      ]
     },
     "metadata": {},
     "output_type": "display_data"
    }
   ],
   "source": [
    "plotmetrics(ModelWithoutPretrainEmb_his,\"without pretrained embedding\")"
   ]
  },
  {
   "cell_type": "markdown",
   "metadata": {},
   "source": [
    "**Fit and Evaluate the model with Pre-trained word Embedding(glove) and optimizers(adam & SGD)**"
   ]
  },
  {
   "cell_type": "code",
   "execution_count": 26,
   "metadata": {},
   "outputs": [
    {
     "name": "stdout",
     "output_type": "stream",
     "text": [
      "running the model with pretrained word emedding and sgd optimizer\n",
      "Epoch 1/10\n",
      "367/367 [==============================] - 31s 81ms/step - loss: 0.6469 - accuracy: 0.3590 - val_loss: 0.5199 - val_accuracy: 0.4029\n",
      "\n",
      "Epoch 00001: val_loss improved from inf to 0.51995, saving model to ..\\NLPCourseWork\\ModelWithPretrainEmb.hdf5\n",
      "Epoch 2/10\n",
      "367/367 [==============================] - 28s 76ms/step - loss: 0.4914 - accuracy: 0.3992 - val_loss: 0.4456 - val_accuracy: 0.4029\n",
      "\n",
      "Epoch 00002: val_loss improved from 0.51995 to 0.44560, saving model to ..\\NLPCourseWork\\ModelWithPretrainEmb.hdf5\n",
      "Epoch 3/10\n",
      "367/367 [==============================] - 29s 78ms/step - loss: 0.4465 - accuracy: 0.4036 - val_loss: 0.4362 - val_accuracy: 0.4029\n",
      "\n",
      "Epoch 00003: val_loss improved from 0.44560 to 0.43625, saving model to ..\\NLPCourseWork\\ModelWithPretrainEmb.hdf5\n",
      "Epoch 4/10\n",
      "367/367 [==============================] - 29s 78ms/step - loss: 0.4409 - accuracy: 0.3978 - val_loss: 0.4335 - val_accuracy: 0.4029\n",
      "\n",
      "Epoch 00004: val_loss improved from 0.43625 to 0.43355, saving model to ..\\NLPCourseWork\\ModelWithPretrainEmb.hdf5\n",
      "Epoch 5/10\n",
      "367/367 [==============================] - 30s 81ms/step - loss: 0.4385 - accuracy: 0.4057 - val_loss: 0.4324 - val_accuracy: 0.4029\n",
      "\n",
      "Epoch 00005: val_loss improved from 0.43355 to 0.43244, saving model to ..\\NLPCourseWork\\ModelWithPretrainEmb.hdf5\n",
      "Epoch 6/10\n",
      "367/367 [==============================] - 29s 78ms/step - loss: 0.4381 - accuracy: 0.4103 - val_loss: 0.4319 - val_accuracy: 0.4033\n",
      "\n",
      "Epoch 00006: val_loss improved from 0.43244 to 0.43192, saving model to ..\\NLPCourseWork\\ModelWithPretrainEmb.hdf5\n",
      "Epoch 7/10\n",
      "367/367 [==============================] - 28s 76ms/step - loss: 0.4367 - accuracy: 0.3990 - val_loss: 0.4314 - val_accuracy: 0.4029\n",
      "\n",
      "Epoch 00007: val_loss improved from 0.43192 to 0.43140, saving model to ..\\NLPCourseWork\\ModelWithPretrainEmb.hdf5\n",
      "Epoch 8/10\n",
      "367/367 [==============================] - 28s 76ms/step - loss: 0.4355 - accuracy: 0.4090 - val_loss: 0.4312 - val_accuracy: 0.4046\n",
      "\n",
      "Epoch 00008: val_loss improved from 0.43140 to 0.43118, saving model to ..\\NLPCourseWork\\ModelWithPretrainEmb.hdf5\n",
      "Epoch 9/10\n",
      "367/367 [==============================] - 29s 79ms/step - loss: 0.4359 - accuracy: 0.3950 - val_loss: 0.4311 - val_accuracy: 0.4040\n",
      "\n",
      "Epoch 00009: val_loss improved from 0.43118 to 0.43106, saving model to ..\\NLPCourseWork\\ModelWithPretrainEmb.hdf5\n",
      "Epoch 10/10\n",
      "367/367 [==============================] - 28s 76ms/step - loss: 0.4375 - accuracy: 0.3989 - val_loss: 0.4309 - val_accuracy: 0.4046\n",
      "\n",
      "Epoch 00010: val_loss improved from 0.43106 to 0.43087, saving model to ..\\NLPCourseWork\\ModelWithPretrainEmb.hdf5\n",
      "running the model with pretrained word emedding and adam optimizer\n",
      "Epoch 1/10\n",
      "367/367 [==============================] - 30s 78ms/step - loss: 0.4384 - accuracy: 0.4011 - val_loss: 0.4231 - val_accuracy: 0.4166\n",
      "\n",
      "Epoch 00001: val_loss improved from inf to 0.42315, saving model to ..\\NLPCourseWork\\ModelWithPretrainEmb.hdf5\n",
      "Epoch 2/10\n",
      "367/367 [==============================] - 28s 77ms/step - loss: 0.4013 - accuracy: 0.5057 - val_loss: 0.3109 - val_accuracy: 0.7013\n",
      "\n",
      "Epoch 00002: val_loss improved from 0.42315 to 0.31094, saving model to ..\\NLPCourseWork\\ModelWithPretrainEmb.hdf5\n",
      "Epoch 3/10\n",
      "367/367 [==============================] - 30s 83ms/step - loss: 0.3237 - accuracy: 0.6915 - val_loss: 0.2925 - val_accuracy: 0.7204\n",
      "\n",
      "Epoch 00003: val_loss improved from 0.31094 to 0.29247, saving model to ..\\NLPCourseWork\\ModelWithPretrainEmb.hdf5\n",
      "Epoch 4/10\n",
      "367/367 [==============================] - 29s 79ms/step - loss: 0.2890 - accuracy: 0.7169 - val_loss: 0.2594 - val_accuracy: 0.7091\n",
      "\n",
      "Epoch 00004: val_loss improved from 0.29247 to 0.25942, saving model to ..\\NLPCourseWork\\ModelWithPretrainEmb.hdf5\n",
      "Epoch 5/10\n",
      "367/367 [==============================] - 29s 78ms/step - loss: 0.2680 - accuracy: 0.7221 - val_loss: 0.2503 - val_accuracy: 0.7245\n",
      "\n",
      "Epoch 00005: val_loss improved from 0.25942 to 0.25030, saving model to ..\\NLPCourseWork\\ModelWithPretrainEmb.hdf5\n",
      "Epoch 6/10\n",
      "367/367 [==============================] - 28s 78ms/step - loss: 0.2556 - accuracy: 0.7266 - val_loss: 0.2464 - val_accuracy: 0.7200\n",
      "\n",
      "Epoch 00006: val_loss improved from 0.25030 to 0.24637, saving model to ..\\NLPCourseWork\\ModelWithPretrainEmb.hdf5\n",
      "Epoch 7/10\n",
      "367/367 [==============================] - 30s 81ms/step - loss: 0.2471 - accuracy: 0.7221 - val_loss: 0.2351 - val_accuracy: 0.7282\n",
      "\n",
      "Epoch 00007: val_loss improved from 0.24637 to 0.23513, saving model to ..\\NLPCourseWork\\ModelWithPretrainEmb.hdf5\n",
      "Epoch 8/10\n",
      "367/367 [==============================] - 29s 80ms/step - loss: 0.2344 - accuracy: 0.7172 - val_loss: 0.2295 - val_accuracy: 0.7330\n",
      "\n",
      "Epoch 00008: val_loss improved from 0.23513 to 0.22947, saving model to ..\\NLPCourseWork\\ModelWithPretrainEmb.hdf5\n",
      "Epoch 9/10\n",
      "367/367 [==============================] - 30s 81ms/step - loss: 0.2156 - accuracy: 0.7462 - val_loss: 0.2239 - val_accuracy: 0.7384\n",
      "\n",
      "Epoch 00009: val_loss improved from 0.22947 to 0.22393, saving model to ..\\NLPCourseWork\\ModelWithPretrainEmb.hdf5\n",
      "Epoch 10/10\n",
      "367/367 [==============================] - 29s 80ms/step - loss: 0.2109 - accuracy: 0.7492 - val_loss: 0.2145 - val_accuracy: 0.7292\n",
      "\n",
      "Epoch 00010: val_loss improved from 0.22393 to 0.21453, saving model to ..\\NLPCourseWork\\ModelWithPretrainEmb.hdf5\n"
     ]
    },
    {
     "data": {
      "image/png": "[encoded data removed]",
      "text/plain": [
       "<Figure size 1080x1440 with 1 Axes>"
      ]
     },
     "metadata": {},
     "output_type": "display_data"
    },
    {
     "data": {
      "image/png": "[encoded data removed]",
      "text/plain": [
       "<Figure size 1080x1440 with 1 Axes>"
      ]
     },
     "metadata": {},
     "output_type": "display_data"
    }
   ],
   "source": [
    "from matplotlib import pyplot\n",
    "optimizer=[\"sgd\", \"adam\"]\n",
    "j=0\n",
    "for i in optimizer:\n",
    "    print(\"running the model with pretrained word emedding and \"+i+\" optimizer\")\n",
    "    \n",
    "    plot_no = 420 + (j+1)\n",
    "    pyplot.figure(figsize=(15,20))\n",
    "    pyplot.subplot(plot_no)\n",
    "    ModelWithPretrainEmb_his=fit_model(model_pretrainedEmb,modelpath_withPretrainEmb,i)\n",
    "    pyplot.plot(ModelWithPretrainEmb_his.history['accuracy'], label='train')\n",
    "    pyplot.plot(ModelWithPretrainEmb_his.history['val_accuracy'], label='test')\n",
    "    plt.ylabel('accuracy')\n",
    "    plt.xlabel('epoch')\n",
    "    plt.legend(['train','test'], loc='upper left')\n",
    "    pyplot.title(i)\n",
    "    j+=1\n",
    "pyplot.show()    "
   ]
  },
  {
   "cell_type": "code",
   "execution_count": 27,
   "metadata": {},
   "outputs": [
    {
     "name": "stdout",
     "output_type": "stream",
     "text": [
      "The path of the saved model is ..\\NLPCourseWork\\ModelWithPretrainEmb.hdf5\n",
      "197/197 [==============================] - 6s 29ms/step - loss: 0.2075 - accuracy: 0.7516\n",
      "Research Papers Test Score :(Model with Pretrained Embedding) 0.20752795040607452\n",
      "Research Papers Test Accuracy :(Model with Pretrained Embedding) 0.751589298248291\n",
      "Confusion Matrix of -  for model with pretrained embedding\n",
      "[[[3158  521]\n",
      "  [ 420 2193]]\n",
      "\n",
      " [[4326  156]\n",
      "  [ 349 1461]]\n",
      "\n",
      " [[4372  262]\n",
      "  [ 432 1226]]\n",
      "\n",
      " [[4404  355]\n",
      "  [ 481 1052]]\n",
      "\n",
      " [[6112    2]\n",
      "  [ 173    5]]\n",
      "\n",
      " [[6216    0]\n",
      "  [  76    0]]]\n",
      "Classification Report\n",
      "                      precision    recall  f1-score   support\n",
      "\n",
      "    Computer Science       0.81      0.84      0.82      2613\n",
      "             Physics       0.90      0.81      0.85      1810\n",
      "         Mathematics       0.82      0.74      0.78      1658\n",
      "          Statistics       0.75      0.69      0.72      1533\n",
      "Quantitative Biology       0.71      0.03      0.05       178\n",
      "Quantitative Finance       0.00      0.00      0.00        76\n",
      "\n",
      "           micro avg       0.82      0.75      0.79      7868\n",
      "           macro avg       0.67      0.52      0.54      7868\n",
      "        weighted avg       0.81      0.75      0.77      7868\n",
      "         samples avg       0.81      0.79      0.78      7868\n",
      "\n",
      "confusion matrix function\n"
     ]
    }
   ],
   "source": [
    "print(\"The path of the saved model is \"+modelpath_withPretrainEmb)\n",
    "evaluate(modelpath_withPretrainEmb,\"(Model with Pretrained Embedding)\")\n",
    "confusion_matrix(modelpath_withPretrainEmb,\"for model with pretrained embedding\")"
   ]
  },
  {
   "cell_type": "markdown",
   "metadata": {},
   "source": [
    "I have displayed the outcome in confusion matrix with the labels. 2193 are detected as computer science, 1461 as Physics, 1226 as matematics, 1052 as statistics out of 6292 records and 5 for \"biology\". But unable to recongnize the labels with \"Quantitative Finance\". Below graph shows that loss is reducing and accuracy is increasing with not much overfit in the data."
   ]
  },
  {
   "cell_type": "code",
   "execution_count": 28,
   "metadata": {
    "scrolled": true
   },
   "outputs": [
    {
     "data": {
      "image/png": "[encoded data removed]",
      "text/plain": [
       "<Figure size 432x288 with 1 Axes>"
      ]
     },
     "metadata": {},
     "output_type": "display_data"
    },
    {
     "data": {
      "image/png": "[encoded data removed]",
      "text/plain": [
       "<Figure size 432x288 with 1 Axes>"
      ]
     },
     "metadata": {},
     "output_type": "display_data"
    }
   ],
   "source": [
    "plotmetrics(ModelWithPretrainEmb_his,\"with pretrained embedding\")"
   ]
  },
  {
   "cell_type": "markdown",
   "metadata": {},
   "source": [
    "# Step 6: Applying the trained model on unseen test data"
   ]
  },
  {
   "cell_type": "code",
   "execution_count": 33,
   "metadata": {},
   "outputs": [
    {
     "name": "stdout",
     "output_type": "stream",
     "text": [
      "      ID                                              TITLE  \\\n",
      "0  20973  Closed-form Marginal Likelihood in Gamma-Poiss...   \n",
      "1  20974  Laboratory mid-IR spectra of equilibrated and ...   \n",
      "2  20975         Case For Static AMSDU Aggregation in WLANs   \n",
      "3  20976  The $Gaia$-ESO Survey: the inner disk intermed...   \n",
      "4  20977  Witness-Functions versus Interpretation-Functi...   \n",
      "\n",
      "                                            ABSTRACT  \n",
      "0  we present novel understandings of the gamma-p...  \n",
      "1  meteorites contain minerals from solar system ...  \n",
      "2  frame aggregation is a mechanism by which mult...  \n",
      "3  milky way open clusters are very diverse in te...  \n",
      "4  proving that a cryptographic protocol is corre...  \n",
      "[1 0 0 0 0 0]\n"
     ]
    }
   ],
   "source": [
    "\n",
    "test_respapers = pd.read_csv('C:/Users/priyanka/OneDrive - University of Surrey/NLPCourseWork/ResearchPapersDataset/test.csv')\n",
    "#Remove punctuation\n",
    "#decontracting the text()\n",
    "test_respapers['ABSTRACT'] = test_respapers['ABSTRACT'].map(lambda com : clean_text(com))\n",
    "\n",
    "#remove_punctuation()\n",
    "test_respapers['ABSTRACT'] = test_respapers['ABSTRACT'].apply(lambda x: remove_punctuation(x))\n",
    "\n",
    "# Print out the first rows of papers\n",
    "print(test_respapers.head())\n",
    "\n",
    "tokenizer = Tokenizer(num_words=500)\n",
    "tokenizer.fit_on_texts(test_respapers['ABSTRACT'])\n",
    "\n",
    "X_train = tokenizer.texts_to_sequences(test_respapers['ABSTRACT'])\n",
    "maxlen = 200\n",
    "X_train = pad_sequences(X_train, padding='post', maxlen=maxlen)\n",
    "lstm_model = keras.models.load_model(modelpath_withPretrainEmb)\n",
    "Y_pred = lstm_model.predict(X_train)\n",
    "Y_pred  = np.where(Y_pred > 0.5, 1, 0)\n",
    "print(Y_pred[1])\n"
   ]
  },
  {
   "cell_type": "code",
   "execution_count": 34,
   "metadata": {},
   "outputs": [
    {
     "name": "stdout",
     "output_type": "stream",
     "text": [
      "[1 0 0 0 0 0]\n"
     ]
    }
   ],
   "source": [
    "myPreds= np.vstack(Y_pred)\n",
    "print(myPreds[1])"
   ]
  },
  {
   "cell_type": "code",
   "execution_count": 35,
   "metadata": {},
   "outputs": [],
   "source": [
    "for i, col in enumerate([\"Computer Science\",\"Physics\",\"Mathematics\",\"Statistics\",\"Quantitative Biology\",\"Quantitative Finance\"]):\n",
    "    test_respapers[col] = myPreds[:, i]"
   ]
  },
  {
   "cell_type": "code",
   "execution_count": 36,
   "metadata": {},
   "outputs": [],
   "source": [
    "test_respapers.drop(\"ABSTRACT\", axis=1).to_csv(\"submission_one.csv\", index=False)"
   ]
  },
  {
   "cell_type": "markdown",
   "metadata": {},
   "source": [
    "**Conclusion :**\n",
    "\n",
    "- I have experiemented with below two variations\n",
    "\n",
    "   - Building the model without pre-trained word embedding gives an accuracy of 76% with reduction in loss and increase in accuracy for both train and test data , but its unable to\n",
    "     predict the labes that are \"Quantitative Biology\" and \"Quantitative finance\" with very low precision and recall.\n",
    "   - Building the model with pre-trained word embedding gives an accuracy of 75% with reduction in loss and increase in accuracy  for both test and train data , but its unable to predict labes that are \"Quantitative Biology\" and \"Quantitative finance\" with very low precision and recall.\n",
    "   - Adam optimizer performs very well where as SGD has a constant accuracy with no learning\n",
    "   \n",
    "   \n",
    "- In the next notebook i will be building the model with :\n",
    "   - Bi-directional LSTM\n",
    "   - Adding the activation layer (RELU) and Pooling(Global max Pool)\n",
    "   - Experiements on the learning rate\n",
    "   \n",
    "  "
   ]
  },
  {
   "cell_type": "code",
   "execution_count": null,
   "metadata": {},
   "outputs": [],
   "source": []
  }
 ],
 "metadata": {
  "colab": {
   "authorship_tag": "ABX9TyNRsKP/AcSqfMvm1AzuV37i",
   "collapsed_sections": [],
   "name": "Untitled0.ipynb",
   "provenance": []
  },
  "kernelspec": {
   "display_name": "Python 3",
   "language": "python",
   "name": "python3"
  },
  "language_info": {
   "codemirror_mode": {
    "name": "ipython",
    "version": 3
   },
   "file_extension": ".py",
   "mimetype": "text/x-python",
   "name": "python",
   "nbconvert_exporter": "python",
   "pygments_lexer": "ipython3",
   "version": "3.9.1"
  }
 },
 "nbformat": 4,
 "nbformat_minor": 1
}
