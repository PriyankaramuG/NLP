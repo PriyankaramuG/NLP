{
 "cells": [
  {
   "cell_type": "markdown",
   "metadata": {},
   "source": [
    "# Topic: Research Papers Categorization \n",
    "\n",
    "In this notebook i will be experimenting by creating two models:\n",
    "\n",
    "- LSTM Model with Relu activate layer and Globalmax pooling for dimensionality reduction\n",
    "- Bi-Directional LSTM Layer\n",
    "- Different learning rates"
   ]
  },
  {
   "cell_type": "markdown",
   "metadata": {},
   "source": [
    "# Step 1: Data Visualization\n",
    "\n",
    "\n",
    "In this step i am checking for null values, distribution of labels and balance of the data across the labels"
   ]
  },
  {
   "cell_type": "code",
   "execution_count": 1,
   "metadata": {},
   "outputs": [
    {
     "name": "stdout",
     "output_type": "stream",
     "text": [
      "INFO:tensorflow:Enabling eager execution\n",
      "INFO:tensorflow:Enabling v2 tensorshape\n",
      "INFO:tensorflow:Enabling resource variables\n",
      "INFO:tensorflow:Enabling tensor equality\n",
      "INFO:tensorflow:Enabling control flow v2\n"
     ]
    }
   ],
   "source": [
    "from numpy import array\n",
    "from keras.preprocessing.text import one_hot\n",
    "from keras.preprocessing.sequence import pad_sequences\n",
    "from keras.models import Sequential\n",
    "from keras.layers.core import Activation, Dropout, Dense\n",
    "from keras.layers import Flatten, LSTM\n",
    "from keras.layers import GlobalMaxPooling1D\n",
    "from keras.models import Model\n",
    "from keras.layers.embeddings import Embedding\n",
    "from sklearn.model_selection import train_test_split\n",
    "from keras.preprocessing.text import Tokenizer\n",
    "from keras.layers import Input\n",
    "from keras.layers.merge import Concatenate\n",
    "import pandas as pd\n",
    "import numpy as np\n",
    "import re\n",
    "import matplotlib.pyplot as plt\n",
    "import seaborn as sns\n",
    "from numpy import array\n",
    "from numpy import asarray\n",
    "from numpy import zeros\n"
   ]
  },
  {
   "cell_type": "markdown",
   "metadata": {},
   "source": [
    "Path of the :\n",
    "- Test and Train data\n",
    "- GloVe embedding file \n",
    "- Saved model\n",
    "\n",
    "**change the path to run the experiement in your local**"
   ]
  },
  {
   "cell_type": "code",
   "execution_count": 2,
   "metadata": {},
   "outputs": [],
   "source": [
    "train_respapers = pd.read_csv('C:/Users/priyanka/OneDrive - University of Surrey/NLPCourseWork/ResearchPapersDataset/train.csv')\n",
    "test_respapers = pd.read_csv('C:/Users/priyanka/OneDrive - University of Surrey/NLPCourseWork/ResearchPapersDataset/test.csv')\n",
    "modelpath_LSTMwithPoolandRelu=\"..\\\\NLPCourseWork\\\\models\\\\LSTMwithPoolandRelu.hdf5\"\n",
    "modelpath_BidirectionalLSTM=\"..\\\\NLPCourseWork\\\\models\\\\BidirectionalLSTM.hdf5\"\n",
    "glovepath_file='C:\\\\Users\\\\priyanka\\\\OneDrive - University of Surrey\\\\NLPCourseWork\\\\glove.6B.100d.txt'"
   ]
  },
  {
   "cell_type": "code",
   "execution_count": 3,
   "metadata": {
    "colab": {
     "base_uri": "https://localhost:8080/",
     "height": 296
    },
    "executionInfo": {
     "elapsed": 465,
     "status": "ok",
     "timestamp": 1618770920340,
     "user": {
      "displayName": "Priyanka r",
      "photoUrl": "https://lh3.googleusercontent.com/a-/AOh14GgaUYS2fg6dH-H1F0UFHSjiqCjjplyS1ieEaYL9GA=s64",
      "userId": "10955679455878247208"
     },
     "user_tz": -60
    },
    "id": "xvfrxyq6P1zz",
    "outputId": "9bb6ca6f-7c09-40f5-c5db-fd0c25dbe010"
   },
   "outputs": [
    {
     "name": "stdout",
     "output_type": "stream",
     "text": [
      "Number of rows in data = 20972\n",
      "Number of columns in data = 9\n",
      "\n",
      "\n",
      "**Sample data:**\n"
     ]
    },
    {
     "data": {
      "text/html": [
       "<div>\n",
       "<style scoped>\n",
       "    .dataframe tbody tr th:only-of-type {\n",
       "        vertical-align: middle;\n",
       "    }\n",
       "\n",
       "    .dataframe tbody tr th {\n",
       "        vertical-align: top;\n",
       "    }\n",
       "\n",
       "    .dataframe thead th {\n",
       "        text-align: right;\n",
       "    }\n",
       "</style>\n",
       "<table border=\"1\" class=\"dataframe\">\n",
       "  <thead>\n",
       "    <tr style=\"text-align: right;\">\n",
       "      <th></th>\n",
       "      <th>ID</th>\n",
       "      <th>TITLE</th>\n",
       "      <th>ABSTRACT</th>\n",
       "      <th>Computer Science</th>\n",
       "      <th>Physics</th>\n",
       "      <th>Mathematics</th>\n",
       "      <th>Statistics</th>\n",
       "      <th>Quantitative Biology</th>\n",
       "      <th>Quantitative Finance</th>\n",
       "    </tr>\n",
       "  </thead>\n",
       "  <tbody>\n",
       "    <tr>\n",
       "      <th>0</th>\n",
       "      <td>1</td>\n",
       "      <td>Reconstructing Subject-Specific Effect Maps</td>\n",
       "      <td>Predictive models allow subject-specific inf...</td>\n",
       "      <td>1</td>\n",
       "      <td>0</td>\n",
       "      <td>0</td>\n",
       "      <td>0</td>\n",
       "      <td>0</td>\n",
       "      <td>0</td>\n",
       "    </tr>\n",
       "    <tr>\n",
       "      <th>1</th>\n",
       "      <td>2</td>\n",
       "      <td>Rotation Invariance Neural Network</td>\n",
       "      <td>Rotation invariance and translation invarian...</td>\n",
       "      <td>1</td>\n",
       "      <td>0</td>\n",
       "      <td>0</td>\n",
       "      <td>0</td>\n",
       "      <td>0</td>\n",
       "      <td>0</td>\n",
       "    </tr>\n",
       "    <tr>\n",
       "      <th>2</th>\n",
       "      <td>3</td>\n",
       "      <td>Spherical polyharmonics and Poisson kernels fo...</td>\n",
       "      <td>We introduce and develop the notion of spher...</td>\n",
       "      <td>0</td>\n",
       "      <td>0</td>\n",
       "      <td>1</td>\n",
       "      <td>0</td>\n",
       "      <td>0</td>\n",
       "      <td>0</td>\n",
       "    </tr>\n",
       "    <tr>\n",
       "      <th>3</th>\n",
       "      <td>4</td>\n",
       "      <td>A finite element approximation for the stochas...</td>\n",
       "      <td>The stochastic Landau--Lifshitz--Gilbert (LL...</td>\n",
       "      <td>0</td>\n",
       "      <td>0</td>\n",
       "      <td>1</td>\n",
       "      <td>0</td>\n",
       "      <td>0</td>\n",
       "      <td>0</td>\n",
       "    </tr>\n",
       "    <tr>\n",
       "      <th>4</th>\n",
       "      <td>5</td>\n",
       "      <td>Comparative study of Discrete Wavelet Transfor...</td>\n",
       "      <td>Fourier-transform infra-red (FTIR) spectra o...</td>\n",
       "      <td>1</td>\n",
       "      <td>0</td>\n",
       "      <td>0</td>\n",
       "      <td>1</td>\n",
       "      <td>0</td>\n",
       "      <td>0</td>\n",
       "    </tr>\n",
       "  </tbody>\n",
       "</table>\n",
       "</div>"
      ],
      "text/plain": [
       "   ID                                              TITLE  \\\n",
       "0   1        Reconstructing Subject-Specific Effect Maps   \n",
       "1   2                 Rotation Invariance Neural Network   \n",
       "2   3  Spherical polyharmonics and Poisson kernels fo...   \n",
       "3   4  A finite element approximation for the stochas...   \n",
       "4   5  Comparative study of Discrete Wavelet Transfor...   \n",
       "\n",
       "                                            ABSTRACT  Computer Science  \\\n",
       "0    Predictive models allow subject-specific inf...                 1   \n",
       "1    Rotation invariance and translation invarian...                 1   \n",
       "2    We introduce and develop the notion of spher...                 0   \n",
       "3    The stochastic Landau--Lifshitz--Gilbert (LL...                 0   \n",
       "4    Fourier-transform infra-red (FTIR) spectra o...                 1   \n",
       "\n",
       "   Physics  Mathematics  Statistics  Quantitative Biology  \\\n",
       "0        0            0           0                     0   \n",
       "1        0            0           0                     0   \n",
       "2        0            1           0                     0   \n",
       "3        0            1           0                     0   \n",
       "4        0            0           1                     0   \n",
       "\n",
       "   Quantitative Finance  \n",
       "0                     0  \n",
       "1                     0  \n",
       "2                     0  \n",
       "3                     0  \n",
       "4                     0  "
      ]
     },
     "execution_count": 3,
     "metadata": {},
     "output_type": "execute_result"
    }
   ],
   "source": [
    "print(\"Number of rows in data =\",train_respapers.shape[0])\n",
    "print(\"Number of columns in data =\",train_respapers.shape[1])\n",
    "print(\"\\n\")\n",
    "print(\"**Sample data:**\")\n",
    "train_respapers.head()"
   ]
  },
  {
   "cell_type": "code",
   "execution_count": 4,
   "metadata": {
    "colab": {
     "base_uri": "https://localhost:8080/"
    },
    "executionInfo": {
     "elapsed": 568,
     "status": "ok",
     "timestamp": 1618773503245,
     "user": {
      "displayName": "Priyanka r",
      "photoUrl": "https://lh3.googleusercontent.com/a-/AOh14GgaUYS2fg6dH-H1F0UFHSjiqCjjplyS1ieEaYL9GA=s64",
      "userId": "10955679455878247208"
     },
     "user_tz": -60
    },
    "id": "eIrffKIoazWe",
    "outputId": "ebf18671-9504-41bb-c927-704c1642ff87"
   },
   "outputs": [
    {
     "name": "stdout",
     "output_type": "stream",
     "text": [
      "Check for Missing values:\n",
      " \n",
      "ID                      0\n",
      "TITLE                   0\n",
      "ABSTRACT                0\n",
      "Computer Science        0\n",
      "Physics                 0\n",
      "Mathematics             0\n",
      "Statistics              0\n",
      "Quantitative Biology    0\n",
      "Quantitative Finance    0\n",
      "dtype: int64\n"
     ]
    }
   ],
   "source": [
    "#check for missing values\n",
    "missing_values_check = train_respapers.isnull().sum()\n",
    "print(\"Check for Missing values:\\n \")\n",
    "print(missing_values_check)"
   ]
  },
  {
   "cell_type": "code",
   "execution_count": 5,
   "metadata": {
    "colab": {
     "base_uri": "https://localhost:8080/"
    },
    "executionInfo": {
     "elapsed": 607,
     "status": "ok",
     "timestamp": 1618773646059,
     "user": {
      "displayName": "Priyanka r",
      "photoUrl": "https://lh3.googleusercontent.com/a-/AOh14GgaUYS2fg6dH-H1F0UFHSjiqCjjplyS1ieEaYL9GA=s64",
      "userId": "10955679455878247208"
     },
     "user_tz": -60
    },
    "id": "cKduslOjbF-p",
    "outputId": "993b6c1c-74ef-413b-a7fa-44e2d1eed159"
   },
   "outputs": [
    {
     "name": "stdout",
     "output_type": "stream",
     "text": [
      "Total number of papers =  20972\n",
      "Number of papers with labels = 20972\n"
     ]
    }
   ],
   "source": [
    "#Check for the Papers without labels\n",
    "rowSums = train_respapers.iloc[:,3:].sum(axis=1)\n",
    "clean_comments_count = (rowSums==0).sum(axis=0)\n",
    "\n",
    "print(\"Total number of papers = \",len(train_respapers))\n",
    "print(\"Number of papers with labels =\",(len(train_respapers)-clean_comments_count))"
   ]
  },
  {
   "cell_type": "code",
   "execution_count": 6,
   "metadata": {
    "colab": {
     "base_uri": "https://localhost:8080/"
    },
    "executionInfo": {
     "elapsed": 516,
     "status": "ok",
     "timestamp": 1618773695313,
     "user": {
      "displayName": "Priyanka r",
      "photoUrl": "https://lh3.googleusercontent.com/a-/AOh14GgaUYS2fg6dH-H1F0UFHSjiqCjjplyS1ieEaYL9GA=s64",
      "userId": "10955679455878247208"
     },
     "user_tz": -60
    },
    "id": "YW-fUiqAbiO7",
    "outputId": "6bd9d25e-015b-4412-a95d-1205421d67f8"
   },
   "outputs": [
    {
     "name": "stdout",
     "output_type": "stream",
     "text": [
      "List of Labels:  ['Computer Science', 'Physics', 'Mathematics', 'Statistics', 'Quantitative Biology', 'Quantitative Finance']\n"
     ]
    }
   ],
   "source": [
    "#print the list of Target labels\n",
    "categories = list(train_respapers.columns.values)\n",
    "categories = categories[3:]\n",
    "print(\"List of Labels: \",categories)"
   ]
  },
  {
   "cell_type": "code",
   "execution_count": 7,
   "metadata": {
    "colab": {
     "base_uri": "https://localhost:8080/",
     "height": 225
    },
    "executionInfo": {
     "elapsed": 477,
     "status": "ok",
     "timestamp": 1618773826567,
     "user": {
      "displayName": "Priyanka r",
      "photoUrl": "https://lh3.googleusercontent.com/a-/AOh14GgaUYS2fg6dH-H1F0UFHSjiqCjjplyS1ieEaYL9GA=s64",
      "userId": "10955679455878247208"
     },
     "user_tz": -60
    },
    "id": "DO0pDLtDbrX7",
    "outputId": "692445c2-0bae-48bf-81c2-7503390bbca0"
   },
   "outputs": [
    {
     "name": "stdout",
     "output_type": "stream",
     "text": [
      "      Research Category  Number of Papers\n",
      "0      Computer Science              8594\n",
      "1               Physics              6013\n",
      "2           Mathematics              5618\n",
      "3            Statistics              5206\n",
      "4  Quantitative Biology               587\n",
      "5  Quantitative Finance               249\n"
     ]
    }
   ],
   "source": [
    "# Calculating number of research papers in each category\n",
    "counts = []\n",
    "for category in categories:\n",
    "    counts.append((category, train_respapers[category].sum()))\n",
    "df_stats = pd.DataFrame(counts, columns=['Research Category', 'Number of Papers'])\n",
    "print(df_stats)"
   ]
  },
  {
   "cell_type": "code",
   "execution_count": 8,
   "metadata": {
    "colab": {
     "base_uri": "https://localhost:8080/",
     "height": 585
    },
    "executionInfo": {
     "elapsed": 1125,
     "status": "ok",
     "timestamp": 1618774593573,
     "user": {
      "displayName": "Priyanka r",
      "photoUrl": "https://lh3.googleusercontent.com/a-/AOh14GgaUYS2fg6dH-H1F0UFHSjiqCjjplyS1ieEaYL9GA=s64",
      "userId": "10955679455878247208"
     },
     "user_tz": -60
    },
    "id": "o7gmr0BucIP-",
    "outputId": "0dbf66b3-0bbd-47bc-f065-e8cdf00d098b"
   },
   "outputs": [
    {
     "data": {
      "image/png": "[encoded data removed]",
      "text/plain": [
       "<Figure size 1080x576 with 1 Axes>"
      ]
     },
     "metadata": {
      "needs_background": "light"
     },
     "output_type": "display_data"
    }
   ],
   "source": [
    "\n",
    "plt.figure(figsize=(15,8))\n",
    "sns.set(style=\"whitegrid\")\n",
    "ax= sns.barplot(x=categories, y=train_respapers.iloc[:,3:].sum().values)\n",
    "\n",
    "plt.title(\"Papers in each category\", fontsize=20)\n",
    "plt.ylabel('Number of Papers', fontsize=16)\n",
    "plt.xlabel('Research Category', fontsize=16)\n",
    "\n",
    "#adding the text labels\n",
    "rects = ax.patches\n",
    "labels = train_respapers.iloc[:,3:].sum().values\n",
    "for rect, label in zip(rects, labels):\n",
    "    height = rect.get_height()\n",
    "    ax.text(rect.get_x() + rect.get_width()/2, height + 5, label, ha='center', va='bottom', fontsize=17)\n",
    "    ax.set_xticklabels(ax.get_xticklabels(), fontsize=13)\n",
    "plt.show()"
   ]
  },
  {
   "cell_type": "code",
   "execution_count": 9,
   "metadata": {
    "colab": {
     "base_uri": "https://localhost:8080/",
     "height": 582
    },
    "executionInfo": {
     "elapsed": 1537,
     "status": "ok",
     "timestamp": 1618775264036,
     "user": {
      "displayName": "Priyanka r",
      "photoUrl": "https://lh3.googleusercontent.com/a-/AOh14GgaUYS2fg6dH-H1F0UFHSjiqCjjplyS1ieEaYL9GA=s64",
      "userId": "10955679455878247208"
     },
     "user_tz": -60
    },
    "id": "BfBNNY55Tk-B",
    "outputId": "1d4e92d6-0515-4fae-86ff-92b65740eb2a"
   },
   "outputs": [
    {
     "data": {
      "image/png": "[encoded data removed]",
      "text/plain": [
       "<Figure size 1080x576 with 1 Axes>"
      ]
     },
     "metadata": {},
     "output_type": "display_data"
    }
   ],
   "source": [
    "rowSums = train_respapers.iloc[:,2:].sum(axis=1)\n",
    "\n",
    "multiLabel_counts = rowSums.value_counts().iloc[1:]\n",
    "\n",
    "plt.figure(figsize=(15,8))\n",
    "sns.set(style=\"whitegrid\")\n",
    "ax = sns.barplot(x=multiLabel_counts.index, y=multiLabel_counts.values)\n",
    "\n",
    "plt.title(\"Research Papers having multiple labels\", fontsize=20)\n",
    "plt.ylabel('Number of Papers', fontsize=16)\n",
    "plt.xlabel('Number of Categories', fontsize=16)\n",
    "\n",
    "#adding the text labels\n",
    "rects = ax.patches\n",
    "labels = multiLabel_counts.values\n",
    "for rect, label in zip(rects, labels):\n",
    "    height = rect.get_height()\n",
    "    ax.text(rect.get_x() + rect.get_width()/2, height + 5, label, ha='center', va='bottom')\n",
    "\n",
    "plt.show()"
   ]
  },
  {
   "cell_type": "markdown",
   "metadata": {},
   "source": [
    "# Step 2 : Data Preprocessing\n",
    "\n",
    "I am performing below data preprocessing for input label which is ' **ABSTRACT** ':\n",
    "\n",
    "- Remove Punctuation\n",
    "- Decontracting the text"
   ]
  },
  {
   "cell_type": "code",
   "execution_count": 10,
   "metadata": {},
   "outputs": [
    {
     "name": "stderr",
     "output_type": "stream",
     "text": [
      "[nltk_data] Downloading package stopwords to\n",
      "[nltk_data]     C:\\Users\\priyanka\\AppData\\Roaming\\nltk_data...\n",
      "[nltk_data]   Package stopwords is already up-to-date!\n"
     ]
    }
   ],
   "source": [
    "# Load the regular expression library and spacy library\n",
    "import re\n",
    "import spacy\n",
    "import gensim\n",
    "from gensim.utils import simple_preprocess\n",
    "from nltk.tokenize.treebank import TreebankWordDetokenizer\n",
    "# NLTK Stop words\n",
    "import nltk\n",
    "nltk.download('stopwords')\n",
    "from nltk.corpus import stopwords\n",
    "\n",
    "stop_words = stopwords.words('english')\n",
    "stop_words.extend(['from', 'subject', 're', 'edu', 'use'])\n",
    "# Remove punctuation\n",
    "def remove_punctuation(text):\n",
    "    text = re.sub('[,\\.!?]', '', text)\n",
    "    return text\n",
    "\n",
    "#tokenization\n",
    "def sent_to_words(sentences):\n",
    "    for sentence in sentences:\n",
    "        yield(gensim.utils.simple_preprocess(str(sentence), deacc=False)) \n",
    "        \n",
    "#remove stopwords        \n",
    "def remove_stopwords(texts):\n",
    "    return [[word for word in simple_preprocess(str(doc)) if word not in stop_words] for doc in texts]\n",
    "\n",
    "# decontract the text\n",
    "def clean_text(text):\n",
    "    text = text.lower()\n",
    "    text = re.sub(r\"what's\", \"what is \", text)\n",
    "    text = re.sub(r\"\\'s\", \" \", text)\n",
    "    text = re.sub(r\"\\'ve\", \" have \", text)\n",
    "    text = re.sub(r\"can't\", \"cannot \", text)\n",
    "    text = re.sub(r\"n't\", \" not \", text)\n",
    "    text = re.sub(r\"i'm\", \"i am \", text)\n",
    "    text = re.sub(r\"\\'re\", \" are \", text)\n",
    "    text = re.sub(r\"\\'d\", \" would \", text)\n",
    "    text = re.sub(r\"\\'ll\", \" will \", text)\n",
    "    text = re.sub(r\"\\'scuse\", \" excuse \", text)\n",
    "    #text = re.sub('\\W', ' ', text)\n",
    "    #text = re.sub('\\s+', ' ', text)\n",
    "    text = text.strip(' ')\n",
    "    return text\n",
    "\n",
    "#Lemmatization\n",
    "nlp = spacy.load(\"en_core_web_sm\", disable=['parser', 'ner'])\n",
    "def lemmatization(texts, allowed_postags=['NOUN', 'ADJ', 'VERB', 'ADV']):\n",
    "    \"\"\"https://spacy.io/api/annotation\"\"\"\n",
    "    texts_out = []\n",
    "    for sent in texts:\n",
    "        doc = nlp(\" \".join(sent)) \n",
    "        texts_out.append([token.lemma_ for token in doc if token.pos_ in allowed_postags])\n",
    "    return texts_out\n",
    "\n",
    "def detokenize(text):\n",
    "    return TreebankWordDetokenizer().detokenize(text)"
   ]
  },
  {
   "cell_type": "code",
   "execution_count": 11,
   "metadata": {},
   "outputs": [
    {
     "data": {
      "text/html": [
       "<div>\n",
       "<style scoped>\n",
       "    .dataframe tbody tr th:only-of-type {\n",
       "        vertical-align: middle;\n",
       "    }\n",
       "\n",
       "    .dataframe tbody tr th {\n",
       "        vertical-align: top;\n",
       "    }\n",
       "\n",
       "    .dataframe thead th {\n",
       "        text-align: right;\n",
       "    }\n",
       "</style>\n",
       "<table border=\"1\" class=\"dataframe\">\n",
       "  <thead>\n",
       "    <tr style=\"text-align: right;\">\n",
       "      <th></th>\n",
       "      <th>ID</th>\n",
       "      <th>TITLE</th>\n",
       "      <th>ABSTRACT</th>\n",
       "      <th>Computer Science</th>\n",
       "      <th>Physics</th>\n",
       "      <th>Mathematics</th>\n",
       "      <th>Statistics</th>\n",
       "      <th>Quantitative Biology</th>\n",
       "      <th>Quantitative Finance</th>\n",
       "    </tr>\n",
       "  </thead>\n",
       "  <tbody>\n",
       "    <tr>\n",
       "      <th>0</th>\n",
       "      <td>1</td>\n",
       "      <td>Reconstructing Subject-Specific Effect Maps</td>\n",
       "      <td>predictive models allow subject-specific infer...</td>\n",
       "      <td>1</td>\n",
       "      <td>0</td>\n",
       "      <td>0</td>\n",
       "      <td>0</td>\n",
       "      <td>0</td>\n",
       "      <td>0</td>\n",
       "    </tr>\n",
       "    <tr>\n",
       "      <th>1</th>\n",
       "      <td>2</td>\n",
       "      <td>Rotation Invariance Neural Network</td>\n",
       "      <td>rotation invariance and translation invariance...</td>\n",
       "      <td>1</td>\n",
       "      <td>0</td>\n",
       "      <td>0</td>\n",
       "      <td>0</td>\n",
       "      <td>0</td>\n",
       "      <td>0</td>\n",
       "    </tr>\n",
       "    <tr>\n",
       "      <th>2</th>\n",
       "      <td>3</td>\n",
       "      <td>Spherical polyharmonics and Poisson kernels fo...</td>\n",
       "      <td>we introduce and develop the notion of spheric...</td>\n",
       "      <td>0</td>\n",
       "      <td>0</td>\n",
       "      <td>1</td>\n",
       "      <td>0</td>\n",
       "      <td>0</td>\n",
       "      <td>0</td>\n",
       "    </tr>\n",
       "    <tr>\n",
       "      <th>3</th>\n",
       "      <td>4</td>\n",
       "      <td>A finite element approximation for the stochas...</td>\n",
       "      <td>the stochastic landau--lifshitz--gilbert (llg)...</td>\n",
       "      <td>0</td>\n",
       "      <td>0</td>\n",
       "      <td>1</td>\n",
       "      <td>0</td>\n",
       "      <td>0</td>\n",
       "      <td>0</td>\n",
       "    </tr>\n",
       "    <tr>\n",
       "      <th>4</th>\n",
       "      <td>5</td>\n",
       "      <td>Comparative study of Discrete Wavelet Transfor...</td>\n",
       "      <td>fourier-transform infra-red (ftir) spectra of ...</td>\n",
       "      <td>1</td>\n",
       "      <td>0</td>\n",
       "      <td>0</td>\n",
       "      <td>1</td>\n",
       "      <td>0</td>\n",
       "      <td>0</td>\n",
       "    </tr>\n",
       "  </tbody>\n",
       "</table>\n",
       "</div>"
      ],
      "text/plain": [
       "   ID                                              TITLE  \\\n",
       "0   1        Reconstructing Subject-Specific Effect Maps   \n",
       "1   2                 Rotation Invariance Neural Network   \n",
       "2   3  Spherical polyharmonics and Poisson kernels fo...   \n",
       "3   4  A finite element approximation for the stochas...   \n",
       "4   5  Comparative study of Discrete Wavelet Transfor...   \n",
       "\n",
       "                                            ABSTRACT  Computer Science  \\\n",
       "0  predictive models allow subject-specific infer...                 1   \n",
       "1  rotation invariance and translation invariance...                 1   \n",
       "2  we introduce and develop the notion of spheric...                 0   \n",
       "3  the stochastic landau--lifshitz--gilbert (llg)...                 0   \n",
       "4  fourier-transform infra-red (ftir) spectra of ...                 1   \n",
       "\n",
       "   Physics  Mathematics  Statistics  Quantitative Biology  \\\n",
       "0        0            0           0                     0   \n",
       "1        0            0           0                     0   \n",
       "2        0            1           0                     0   \n",
       "3        0            1           0                     0   \n",
       "4        0            0           1                     0   \n",
       "\n",
       "   Quantitative Finance  \n",
       "0                     0  \n",
       "1                     0  \n",
       "2                     0  \n",
       "3                     0  \n",
       "4                     0  "
      ]
     },
     "execution_count": 11,
     "metadata": {},
     "output_type": "execute_result"
    }
   ],
   "source": [
    "#decontracting the text()\n",
    "train_respapers['ABSTRACT'] = train_respapers['ABSTRACT'].map(lambda com : clean_text(com))\n",
    "\n",
    "#remove_punctuation()\n",
    "train_respapers['ABSTRACT'] = train_respapers['ABSTRACT'].apply(lambda x: remove_punctuation(x))\n",
    "\n",
    "# Print out the first rows of papers\n",
    "train_respapers.head()"
   ]
  },
  {
   "cell_type": "code",
   "execution_count": 13,
   "metadata": {},
   "outputs": [
    {
     "name": "stdout",
     "output_type": "stream",
     "text": [
      "[[1 0 0 0 0 0]\n",
      " [1 0 0 0 0 0]\n",
      " [0 0 1 0 0 0]\n",
      " ...\n",
      " [1 0 0 0 0 0]\n",
      " [0 0 1 1 0 0]\n",
      " [0 0 1 1 0 0]]\n"
     ]
    }
   ],
   "source": [
    "research_labels = train_respapers[[\"Computer Science\", \"Physics\", \"Mathematics\", \"Statistics\", \"Quantitative Biology\", \"Quantitative Finance\"]]\n",
    "research_labels_val=research_labels.values\n",
    "print(research_labels_val)"
   ]
  },
  {
   "cell_type": "markdown",
   "metadata": {},
   "source": [
    "# Step 3: Prepare the Data\n",
    "\n",
    "- Splitting the dataset\n",
    "- Tokenizing the text with texts_to_sequence to transform words to numbers \n",
    "- Using Pad_sequences to ensure all the vectors are of same length\n",
    "- Creating the embedding matrix with pre-trained word embedding GloVe"
   ]
  },
  {
   "cell_type": "code",
   "execution_count": 14,
   "metadata": {},
   "outputs": [
    {
     "name": "stdout",
     "output_type": "stream",
     "text": [
      "(14680,)\n",
      "(14680, 6)\n",
      "(6292,)\n",
      "(6292, 6)\n"
     ]
    }
   ],
   "source": [
    "X_train, X_test, y_train, y_test = train_test_split(\n",
    "train_respapers['ABSTRACT'], research_labels_val, test_size=0.3, random_state=1234, shuffle=True)\n",
    "print(X_train.shape)\n",
    "print(y_train.shape)\n",
    "print(X_test.shape)\n",
    "print(y_test.shape)"
   ]
  },
  {
   "cell_type": "code",
   "execution_count": 15,
   "metadata": {},
   "outputs": [
    {
     "name": "stdout",
     "output_type": "stream",
     "text": [
      "Vocabulary size is  47336\n"
     ]
    }
   ],
   "source": [
    "#Split the text to tokens, using most 5000 frequent words and max len to 200\n",
    "tokenizer = Tokenizer(num_words=5000,lower=True)\n",
    "tokenizer.fit_on_texts(X_train)\n",
    "\n",
    "X_train = tokenizer.texts_to_sequences(X_train)\n",
    "X_test = tokenizer.texts_to_sequences(X_test)\n",
    "\n",
    "vocab_size = len(tokenizer.word_index) + 1\n",
    "\n",
    "maxlen = 200\n",
    "\n",
    "X_train = pad_sequences(X_train, padding='post', maxlen=maxlen)\n",
    "X_test = pad_sequences(X_test, padding='post', maxlen=maxlen)\n",
    "\n",
    "print(\"Vocabulary size is \",vocab_size)"
   ]
  },
  {
   "cell_type": "code",
   "execution_count": 16,
   "metadata": {},
   "outputs": [],
   "source": [
    "def create_embedding_matrix(filepath, word_index, embedding_dim):\n",
    "    vocab_size = len(word_index) + 1  # Adding again 1 because of reserved 0 index\n",
    "    embedding_matrix = np.zeros((vocab_size, embedding_dim))\n",
    "\n",
    "    with open(filepath, encoding=\"utf8\") as f:\n",
    "        for line in f:\n",
    "            word, *vector = line.split()\n",
    "            if word in word_index:\n",
    "                idx = word_index[word] \n",
    "                embedding_matrix[idx] = np.array(\n",
    "                    vector, dtype=np.float32)[:embedding_dim]\n",
    "\n",
    "    return embedding_matrix"
   ]
  },
  {
   "cell_type": "code",
   "execution_count": 17,
   "metadata": {},
   "outputs": [
    {
     "name": "stdout",
     "output_type": "stream",
     "text": [
      "found 47336 word vectors\n"
     ]
    }
   ],
   "source": [
    "embedding_dim = 100\n",
    "embedding_matrix = create_embedding_matrix(\n",
    "     glovepath_file,\n",
    "     tokenizer.word_index, embedding_dim)\n",
    "print('found %s word vectors' % len(embedding_matrix))"
   ]
  },
  {
   "cell_type": "markdown",
   "metadata": {},
   "source": [
    "# Step 4: Build the Model\n",
    "\n",
    "- I am creating the model with configurable parameter of Bi-directional set to true or false\n",
    "\n",
    "- Creating the sequential model with\n",
    "\n",
    "  - Single LSTM layer with 0.2 of dropout to prevent the overfitting, Globalmaxpool and dense layer with Relu activation\n",
    "  - Bi-directional layer to return_sequence set to true to return the last output\n",
    "  - Dense layer with 6 outputs (6labels) with Sigmoid activation because my output is binary(0 or 1)\n"
   ]
  },
  {
   "cell_type": "code",
   "execution_count": 18,
   "metadata": {},
   "outputs": [],
   "source": [
    "from keras import Sequential, Model\n",
    "from keras.layers import Embedding,LSTM, GlobalMaxPool1D,Conv1D,Bidirectional\n",
    "def get_model(bidirectional):\n",
    "   \n",
    "   \n",
    "    model = Sequential()\n",
    "   \n",
    "    model.add(Embedding(vocab_size, embedding_dim, weights=[embedding_matrix], trainable=False,input_length=maxlen))\n",
    "   \n",
    "    model.add(Dropout(0.2))\n",
    "    if(bidirectional==True):\n",
    "        model.add(Bidirectional(LSTM(128,name='lstm_layer',return_sequences=True,dropout=0.2)))\n",
    "    else:\n",
    "        model.add(LSTM(128,name='lstm_layer',return_sequences=True,dropout=0.2))\n",
    "    model.add(Dropout(0.2))\n",
    "  \n",
    "    model.add(GlobalMaxPool1D())\n",
    "    \n",
    "    model.add(Dense(50,activation = 'relu'))\n",
    "   \n",
    "    model.add(Dense(6, activation='sigmoid'))\n",
    "   \n",
    "    return model\n",
    "   \n",
    "   "
   ]
  },
  {
   "cell_type": "code",
   "execution_count": 24,
   "metadata": {},
   "outputs": [],
   "source": [
    "from keras.callbacks import ModelCheckpoint\n",
    "from keras.optimizers import Adam\n",
    "def fit_model(model,path,lr):\n",
    "#model.compile(loss='binary_crossentropy', optimizer='adam', metrics=['accuracy'])\n",
    "    cm_callback = ModelCheckpoint(path, save_best_only = True, monitor = 'val_loss', verbose = 1)\n",
    "#cm_callback = keras.callbacks.LambdaCallback(on_epoch_end=log_confusion_matrix)\n",
    "    if(lr==''):\n",
    "        opt='adam'\n",
    "    else:\n",
    "        opt=Adam(learning_rate=lr)\n",
    "    model.compile(loss='binary_crossentropy', optimizer=opt, metrics=['accuracy'])\n",
    "    history=model.fit(X_train, y_train, batch_size=32, epochs=10, verbose=1, validation_split=0.2,\n",
    "                  callbacks=[cm_callback],validation_data=(X_test, y_test))\n",
    "    return(history)"
   ]
  },
  {
   "cell_type": "code",
   "execution_count": 20,
   "metadata": {},
   "outputs": [
    {
     "name": "stdout",
     "output_type": "stream",
     "text": [
      "Model: \"sequential\"\n",
      "_________________________________________________________________\n",
      "Layer (type)                 Output Shape              Param #   \n",
      "=================================================================\n",
      "embedding (Embedding)        (None, 200, 100)          4733600   \n",
      "_________________________________________________________________\n",
      "dropout (Dropout)            (None, 200, 100)          0         \n",
      "_________________________________________________________________\n",
      "lstm_layer (LSTM)            (None, 200, 128)          117248    \n",
      "_________________________________________________________________\n",
      "dropout_1 (Dropout)          (None, 200, 128)          0         \n",
      "_________________________________________________________________\n",
      "global_max_pooling1d (Global (None, 128)               0         \n",
      "_________________________________________________________________\n",
      "dense (Dense)                (None, 50)                6450      \n",
      "_________________________________________________________________\n",
      "dense_1 (Dense)              (None, 6)                 306       \n",
      "=================================================================\n",
      "Total params: 4,857,604\n",
      "Trainable params: 124,004\n",
      "Non-trainable params: 4,733,600\n",
      "_________________________________________________________________\n",
      "None\n",
      "Model: \"sequential_1\"\n",
      "_________________________________________________________________\n",
      "Layer (type)                 Output Shape              Param #   \n",
      "=================================================================\n",
      "embedding_1 (Embedding)      (None, 200, 100)          4733600   \n",
      "_________________________________________________________________\n",
      "dropout_2 (Dropout)          (None, 200, 100)          0         \n",
      "_________________________________________________________________\n",
      "bidirectional (Bidirectional (None, 200, 256)          234496    \n",
      "_________________________________________________________________\n",
      "dropout_3 (Dropout)          (None, 200, 256)          0         \n",
      "_________________________________________________________________\n",
      "global_max_pooling1d_1 (Glob (None, 256)               0         \n",
      "_________________________________________________________________\n",
      "dense_2 (Dense)              (None, 50)                12850     \n",
      "_________________________________________________________________\n",
      "dense_3 (Dense)              (None, 6)                 306       \n",
      "=================================================================\n",
      "Total params: 4,981,252\n",
      "Trainable params: 247,652\n",
      "Non-trainable params: 4,733,600\n",
      "_________________________________________________________________\n",
      "None\n"
     ]
    }
   ],
   "source": [
    "model_LSTMwithPoolandRelu = get_model(bidirectional=False)\n",
    "model_BidirectionalLSTM = get_model(bidirectional=True)\n",
    "print(model_LSTMwithPoolandRelu.summary())\n",
    "print(model_BidirectionalLSTM.summary())"
   ]
  },
  {
   "cell_type": "markdown",
   "metadata": {},
   "source": [
    "# Step 5: Train the Model\n",
    "\n",
    "Defines below three function:\n",
    "\n",
    "- Evaluate the model against the test data\n",
    "- To calculate the confusion matrix\n",
    "- Plot the metrics (loss vs epoch) and (accuracy vs epoch) for train and test data"
   ]
  },
  {
   "cell_type": "code",
   "execution_count": 21,
   "metadata": {},
   "outputs": [],
   "source": [
    "import keras\n",
    "def evaluate(path,msg):\n",
    "    lstm_model = keras.models.load_model(path)\n",
    "    test_evaluate = lstm_model.evaluate(X_test, y_test, verbose=1)\n",
    "    print(\"Research Papers Test Score :\" +msg, test_evaluate[0])\n",
    "    print(\"Research Papers Test Accuracy :\" +msg, test_evaluate[1])"
   ]
  },
  {
   "cell_type": "code",
   "execution_count": 22,
   "metadata": {},
   "outputs": [],
   "source": [
    "from sklearn.metrics import multilabel_confusion_matrix,classification_report\n",
    "def confusion_matrix(path,msg):\n",
    "    lstm_model = keras.models.load_model(path)\n",
    "    Y_pred = lstm_model.predict(X_test)\n",
    "    Y_pred  = np.where(Y_pred > 0.5, 1, 0)\n",
    "    print('Confusion Matrix of - ',msg)\n",
    "    target_names = ['Computer Science', 'Physics', 'Mathematics','Statistics','Quantitative Biology','Quantitative Finance']\n",
    "    confusionmatrix=multilabel_confusion_matrix(y_test, Y_pred)\n",
    "    print(confusionmatrix)\n",
    "    print('Classification Report')\n",
    "    print(classification_report(y_test, Y_pred, target_names=target_names,zero_division=0))\n",
    "    print(\"confusion matrix function\")"
   ]
  },
  {
   "cell_type": "code",
   "execution_count": 23,
   "metadata": {},
   "outputs": [],
   "source": [
    "import matplotlib.pyplot as plt\n",
    "def plotmetrics(history,msg):\n",
    "    plt.plot(history.history['accuracy'])\n",
    "    plt.plot(history.history['val_accuracy'])\n",
    "\n",
    "    plt.title('model accuracy - '+msg)\n",
    "    plt.ylabel('accuracy')\n",
    "    plt.xlabel('epoch')\n",
    "    plt.legend(['train','test'], loc='upper left')\n",
    "    plt.show()\n",
    "\n",
    "    plt.plot(history.history['loss'])\n",
    "    plt.plot(history.history['val_loss'])\n",
    "\n",
    "    plt.title('model loss - '+msg)\n",
    "    plt.ylabel('loss')\n",
    "    plt.xlabel('epoch')\n",
    "    plt.legend(['train','test'], loc='upper left')\n",
    "    plt.show()"
   ]
  },
  {
   "cell_type": "markdown",
   "metadata": {},
   "source": [
    "**Fit Evaluate the model with single layer LSTM , pooling and Activate layer**"
   ]
  },
  {
   "cell_type": "code",
   "execution_count": 26,
   "metadata": {},
   "outputs": [
    {
     "name": "stdout",
     "output_type": "stream",
     "text": [
      "Epoch 1/10\n",
      "WARNING:tensorflow:AutoGraph could not transform <bound method Dense.call of <keras.layers.core.Dense object at 0x00000180072BCD00>> and will run it as-is.\n",
      "Please report this to the TensorFlow team. When filing the bug, set the verbosity to 10 (on Linux, `export AUTOGRAPH_VERBOSITY=10`) and attach the full output.\n",
      "Cause: invalid syntax (tmpjj225k5h.py, line 48)\n",
      "To silence this warning, decorate the function with @tf.autograph.experimental.do_not_convert\n",
      "WARNING: AutoGraph could not transform <bound method Dense.call of <keras.layers.core.Dense object at 0x00000180072BCD00>> and will run it as-is.\n",
      "Please report this to the TensorFlow team. When filing the bug, set the verbosity to 10 (on Linux, `export AUTOGRAPH_VERBOSITY=10`) and attach the full output.\n",
      "Cause: invalid syntax (tmpjj225k5h.py, line 48)\n",
      "To silence this warning, decorate the function with @tf.autograph.experimental.do_not_convert\n",
      "367/367 [==============================] - 71s 145ms/step - loss: 0.3742 - accuracy: 0.5939 - val_loss: 0.2562 - val_accuracy: 0.7275\n",
      "\n",
      "Epoch 00001: val_loss improved from inf to 0.25615, saving model to ..\\NLPCourseWork\\models\\LSTMwithPoolandRelu.hdf5\n",
      "Epoch 2/10\n",
      "367/367 [==============================] - 57s 156ms/step - loss: 0.2501 - accuracy: 0.7282 - val_loss: 0.2334 - val_accuracy: 0.7193\n",
      "\n",
      "Epoch 00002: val_loss improved from 0.25615 to 0.23340, saving model to ..\\NLPCourseWork\\models\\LSTMwithPoolandRelu.hdf5\n",
      "Epoch 3/10\n",
      "367/367 [==============================] - 51s 138ms/step - loss: 0.2322 - accuracy: 0.7225 - val_loss: 0.2228 - val_accuracy: 0.7112\n",
      "\n",
      "Epoch 00003: val_loss improved from 0.23340 to 0.22281, saving model to ..\\NLPCourseWork\\models\\LSTMwithPoolandRelu.hdf5\n",
      "Epoch 4/10\n",
      "367/367 [==============================] - 54s 147ms/step - loss: 0.2176 - accuracy: 0.7271 - val_loss: 0.2141 - val_accuracy: 0.7200\n",
      "\n",
      "Epoch 00004: val_loss improved from 0.22281 to 0.21411, saving model to ..\\NLPCourseWork\\models\\LSTMwithPoolandRelu.hdf5\n",
      "Epoch 5/10\n",
      "367/367 [==============================] - 54s 148ms/step - loss: 0.2072 - accuracy: 0.7449 - val_loss: 0.2087 - val_accuracy: 0.7435\n",
      "\n",
      "Epoch 00005: val_loss improved from 0.21411 to 0.20873, saving model to ..\\NLPCourseWork\\models\\LSTMwithPoolandRelu.hdf5\n",
      "Epoch 6/10\n",
      "367/367 [==============================] - 54s 147ms/step - loss: 0.2010 - accuracy: 0.7498 - val_loss: 0.2013 - val_accuracy: 0.7299\n",
      "\n",
      "Epoch 00006: val_loss improved from 0.20873 to 0.20132, saving model to ..\\NLPCourseWork\\models\\LSTMwithPoolandRelu.hdf5\n",
      "Epoch 7/10\n",
      "367/367 [==============================] - 56s 151ms/step - loss: 0.1986 - accuracy: 0.7486 - val_loss: 0.2000 - val_accuracy: 0.7214\n",
      "\n",
      "Epoch 00007: val_loss improved from 0.20132 to 0.19997, saving model to ..\\NLPCourseWork\\models\\LSTMwithPoolandRelu.hdf5\n",
      "Epoch 8/10\n",
      "367/367 [==============================] - 57s 156ms/step - loss: 0.1886 - accuracy: 0.7581 - val_loss: 0.2031 - val_accuracy: 0.7020\n",
      "\n",
      "Epoch 00008: val_loss did not improve from 0.19997\n",
      "Epoch 9/10\n",
      "367/367 [==============================] - 56s 153ms/step - loss: 0.1827 - accuracy: 0.7640 - val_loss: 0.1998 - val_accuracy: 0.7255\n",
      "\n",
      "Epoch 00009: val_loss improved from 0.19997 to 0.19979, saving model to ..\\NLPCourseWork\\models\\LSTMwithPoolandRelu.hdf5\n",
      "Epoch 10/10\n",
      "367/367 [==============================] - 56s 153ms/step - loss: 0.1802 - accuracy: 0.7643 - val_loss: 0.2005 - val_accuracy: 0.7337\n",
      "\n",
      "Epoch 00010: val_loss did not improve from 0.19979\n"
     ]
    }
   ],
   "source": [
    "model_LSTMwithPoolandRelu_his=fit_model(model_LSTMwithPoolandRelu,modelpath_LSTMwithPoolandRelu,'')\n"
   ]
  },
  {
   "cell_type": "code",
   "execution_count": 27,
   "metadata": {},
   "outputs": [
    {
     "name": "stdout",
     "output_type": "stream",
     "text": [
      "The path of the saved model is ..\\NLPCourseWork\\models\\LSTMwithPoolandRelu.hdf5\n",
      "197/197 [==============================] - 10s 46ms/step - loss: 0.1954 - accuracy: 0.7424\n",
      "Research Papers Test Score :(Model with LSTM) 0.19539867341518402\n",
      "Research Papers Test Accuracy :(Model with LSTM) 0.7423712611198425\n",
      "Confusion Matrix of -  for model with LSTM\n",
      "[[[3354  325]\n",
      "  [ 603 2010]]\n",
      "\n",
      " [[4278  204]\n",
      "  [ 276 1534]]\n",
      "\n",
      " [[4189  445]\n",
      "  [ 269 1389]]\n",
      "\n",
      " [[4462  297]\n",
      "  [ 497 1036]]\n",
      "\n",
      " [[6061   53]\n",
      "  [ 111   67]]\n",
      "\n",
      " [[6201   15]\n",
      "  [  46   30]]]\n",
      "Classification Report\n",
      "                      precision    recall  f1-score   support\n",
      "\n",
      "    Computer Science       0.86      0.77      0.81      2613\n",
      "             Physics       0.88      0.85      0.86      1810\n",
      "         Mathematics       0.76      0.84      0.80      1658\n",
      "          Statistics       0.78      0.68      0.72      1533\n",
      "Quantitative Biology       0.56      0.38      0.45       178\n",
      "Quantitative Finance       0.67      0.39      0.50        76\n",
      "\n",
      "           micro avg       0.82      0.77      0.79      7868\n",
      "           macro avg       0.75      0.65      0.69      7868\n",
      "        weighted avg       0.82      0.77      0.79      7868\n",
      "         samples avg       0.83      0.81      0.80      7868\n",
      "\n",
      "confusion matrix function\n"
     ]
    }
   ],
   "source": [
    "print(\"The path of the saved model is \"+modelpath_LSTMwithPoolandRelu)\n",
    "evaluate(modelpath_LSTMwithPoolandRelu,\"(Model with LSTM)\")\n",
    "confusion_matrix(modelpath_LSTMwithPoolandRelu,\"for model with LSTM\")"
   ]
  },
  {
   "cell_type": "code",
   "execution_count": 28,
   "metadata": {},
   "outputs": [
    {
     "data": {
      "image/png": "[encoded data removed]",
      "text/plain": [
       "<Figure size 432x288 with 1 Axes>"
      ]
     },
     "metadata": {},
     "output_type": "display_data"
    },
    {
     "data": {
      "image/png": "[encoded data removed]",
      "text/plain": [
       "<Figure size 432x288 with 1 Axes>"
      ]
     },
     "metadata": {},
     "output_type": "display_data"
    }
   ],
   "source": [
    "plotmetrics(model_LSTMwithPoolandRelu_his,\"with LSTM\")"
   ]
  },
  {
   "cell_type": "markdown",
   "metadata": {},
   "source": [
    "**Fit and Evaluate the model for Bi-directional LSTM and experiementing on learning rates**"
   ]
  },
  {
   "cell_type": "code",
   "execution_count": 32,
   "metadata": {},
   "outputs": [
    {
     "name": "stdout",
     "output_type": "stream",
     "text": [
      "running the model for the learning rate  0.001\n",
      "Epoch 1/10\n",
      "367/367 [==============================] - 53s 134ms/step - loss: 0.1720 - accuracy: 0.7623 - val_loss: 0.1931 - val_accuracy: 0.7442\n",
      "\n",
      "Epoch 00001: val_loss improved from inf to 0.19306, saving model to ..\\NLPCourseWork\\models\\BidirectionalLSTM.hdf5\n",
      "Epoch 2/10\n",
      "367/367 [==============================] - 49s 134ms/step - loss: 0.1683 - accuracy: 0.7726 - val_loss: 0.1951 - val_accuracy: 0.7388\n",
      "\n",
      "Epoch 00002: val_loss did not improve from 0.19306\n",
      "Epoch 3/10\n",
      "367/367 [==============================] - 51s 138ms/step - loss: 0.1622 - accuracy: 0.7691 - val_loss: 0.1919 - val_accuracy: 0.7326\n",
      "\n",
      "Epoch 00003: val_loss improved from 0.19306 to 0.19191, saving model to ..\\NLPCourseWork\\models\\BidirectionalLSTM.hdf5\n",
      "Epoch 4/10\n",
      "367/367 [==============================] - 50s 136ms/step - loss: 0.1587 - accuracy: 0.7689 - val_loss: 0.2011 - val_accuracy: 0.7374\n",
      "\n",
      "Epoch 00004: val_loss did not improve from 0.19191\n",
      "Epoch 5/10\n",
      "367/367 [==============================] - 52s 140ms/step - loss: 0.1578 - accuracy: 0.7726 - val_loss: 0.1898 - val_accuracy: 0.7548\n",
      "\n",
      "Epoch 00005: val_loss improved from 0.19191 to 0.18977, saving model to ..\\NLPCourseWork\\models\\BidirectionalLSTM.hdf5\n",
      "Epoch 6/10\n",
      "367/367 [==============================] - 53s 144ms/step - loss: 0.1540 - accuracy: 0.7810 - val_loss: 0.1937 - val_accuracy: 0.7316\n",
      "\n",
      "Epoch 00006: val_loss did not improve from 0.18977\n",
      "Epoch 7/10\n",
      "367/367 [==============================] - 53s 144ms/step - loss: 0.1487 - accuracy: 0.7897 - val_loss: 0.1911 - val_accuracy: 0.7391\n",
      "\n",
      "Epoch 00007: val_loss did not improve from 0.18977\n",
      "Epoch 8/10\n",
      "367/367 [==============================] - 54s 148ms/step - loss: 0.1434 - accuracy: 0.7874 - val_loss: 0.1935 - val_accuracy: 0.7337\n",
      "\n",
      "Epoch 00008: val_loss did not improve from 0.18977\n",
      "Epoch 9/10\n",
      "367/367 [==============================] - 55s 149ms/step - loss: 0.1450 - accuracy: 0.7894 - val_loss: 0.1914 - val_accuracy: 0.7377\n",
      "\n",
      "Epoch 00009: val_loss did not improve from 0.18977\n",
      "Epoch 10/10\n",
      "367/367 [==============================] - 54s 147ms/step - loss: 0.1371 - accuracy: 0.7935 - val_loss: 0.1990 - val_accuracy: 0.7428\n",
      "\n",
      "Epoch 00010: val_loss did not improve from 0.18977\n",
      "running the model for the learning rate  0.01\n",
      "Epoch 1/10\n",
      "367/367 [==============================] - 60s 154ms/step - loss: 0.2250 - accuracy: 0.7366 - val_loss: 0.2204 - val_accuracy: 0.7180\n",
      "\n",
      "Epoch 00001: val_loss improved from inf to 0.22040, saving model to ..\\NLPCourseWork\\models\\BidirectionalLSTM.hdf5\n",
      "Epoch 2/10\n",
      "367/367 [==============================] - 54s 148ms/step - loss: 0.2017 - accuracy: 0.7452 - val_loss: 0.2039 - val_accuracy: 0.7108\n",
      "\n",
      "Epoch 00002: val_loss improved from 0.22040 to 0.20391, saving model to ..\\NLPCourseWork\\models\\BidirectionalLSTM.hdf5\n",
      "Epoch 3/10\n",
      "367/367 [==============================] - 56s 152ms/step - loss: 0.1903 - accuracy: 0.7513 - val_loss: 0.2063 - val_accuracy: 0.6696\n",
      "\n",
      "Epoch 00003: val_loss did not improve from 0.20391\n",
      "Epoch 4/10\n",
      "367/367 [==============================] - 57s 155ms/step - loss: 0.1848 - accuracy: 0.7602 - val_loss: 0.1967 - val_accuracy: 0.7289\n",
      "\n",
      "Epoch 00004: val_loss improved from 0.20391 to 0.19670, saving model to ..\\NLPCourseWork\\models\\BidirectionalLSTM.hdf5\n",
      "Epoch 5/10\n",
      "367/367 [==============================] - 56s 153ms/step - loss: 0.1869 - accuracy: 0.7524 - val_loss: 0.1999 - val_accuracy: 0.7418\n",
      "\n",
      "Epoch 00005: val_loss did not improve from 0.19670\n",
      "Epoch 6/10\n",
      "367/367 [==============================] - 55s 151ms/step - loss: 0.1873 - accuracy: 0.7543 - val_loss: 0.1963 - val_accuracy: 0.7374\n",
      "\n",
      "Epoch 00006: val_loss improved from 0.19670 to 0.19630, saving model to ..\\NLPCourseWork\\models\\BidirectionalLSTM.hdf5\n",
      "Epoch 7/10\n",
      "367/367 [==============================] - 57s 154ms/step - loss: 0.1785 - accuracy: 0.7691 - val_loss: 0.2017 - val_accuracy: 0.7313\n",
      "\n",
      "Epoch 00007: val_loss did not improve from 0.19630\n",
      "Epoch 8/10\n",
      "367/367 [==============================] - 55s 150ms/step - loss: 0.1794 - accuracy: 0.7601 - val_loss: 0.1934 - val_accuracy: 0.7463\n",
      "\n",
      "Epoch 00008: val_loss improved from 0.19630 to 0.19335, saving model to ..\\NLPCourseWork\\models\\BidirectionalLSTM.hdf5\n",
      "Epoch 9/10\n",
      "367/367 [==============================] - 55s 150ms/step - loss: 0.1827 - accuracy: 0.7609 - val_loss: 0.2020 - val_accuracy: 0.7173\n",
      "\n",
      "Epoch 00009: val_loss did not improve from 0.19335\n",
      "Epoch 10/10\n",
      "367/367 [==============================] - 55s 151ms/step - loss: 0.1739 - accuracy: 0.7668 - val_loss: 0.1993 - val_accuracy: 0.7170\n",
      "\n",
      "Epoch 00010: val_loss did not improve from 0.19335\n"
     ]
    },
    {
     "data": {
      "image/png": "[encoded data removed]",
      "text/plain": [
       "<Figure size 1080x1440 with 1 Axes>"
      ]
     },
     "metadata": {},
     "output_type": "display_data"
    },
    {
     "data": {
      "image/png": "[encoded data removed]",
      "text/plain": [
       "<Figure size 1080x1440 with 1 Axes>"
      ]
     },
     "metadata": {},
     "output_type": "display_data"
    }
   ],
   "source": [
    "from matplotlib import pyplot\n",
    "learning_rates = [0.001, 0.01]\n",
    "for i in range(len(learning_rates)):\n",
    "    print(\"running the model for the learning rate \",learning_rates[i])\n",
    "    plot_no = 420 + (i+1)\n",
    "    pyplot.figure(figsize=(15,20))\n",
    "    pyplot.subplot(plot_no)\n",
    "    model_BidirectionalLSTM_his=fit_model(model_BidirectionalLSTM,modelpath_BidirectionalLSTM,learning_rates[i])\n",
    "    pyplot.plot(model_BidirectionalLSTM_his.history['accuracy'], label='train')\n",
    "    pyplot.plot(model_BidirectionalLSTM_his.history['val_accuracy'], label='test')\n",
    "    plt.ylabel('accuracy')\n",
    "    plt.xlabel('epoch')\n",
    "    plt.legend(['train','test'], loc='upper left')\n",
    "    pyplot.title('lrate='+str(learning_rates[i]), pad=-50)\n",
    "pyplot.show() "
   ]
  },
  {
   "cell_type": "markdown",
   "metadata": {},
   "source": [
    "Tried with experiementing two low learning rates,but it overfits with test data.But comparitively performs better with 0.01. Experiementing the models with default learning rate"
   ]
  },
  {
   "cell_type": "code",
   "execution_count": 29,
   "metadata": {},
   "outputs": [
    {
     "name": "stdout",
     "output_type": "stream",
     "text": [
      "Epoch 1/10\n",
      "367/367 [==============================] - 72s 181ms/step - loss: 0.3989 - accuracy: 0.5359 - val_loss: 0.2612 - val_accuracy: 0.7091\n",
      "\n",
      "Epoch 00001: val_loss improved from inf to 0.26117, saving model to ..\\NLPCourseWork\\models\\BidirectionalLSTM.hdf5\n",
      "Epoch 2/10\n",
      "367/367 [==============================] - 63s 173ms/step - loss: 0.2539 - accuracy: 0.7214 - val_loss: 0.2625 - val_accuracy: 0.6918\n",
      "\n",
      "Epoch 00002: val_loss did not improve from 0.26117\n",
      "Epoch 3/10\n",
      "367/367 [==============================] - 66s 179ms/step - loss: 0.2292 - accuracy: 0.7307 - val_loss: 0.2212 - val_accuracy: 0.7415\n",
      "\n",
      "Epoch 00003: val_loss improved from 0.26117 to 0.22115, saving model to ..\\NLPCourseWork\\models\\BidirectionalLSTM.hdf5\n",
      "Epoch 4/10\n",
      "367/367 [==============================] - 64s 174ms/step - loss: 0.2138 - accuracy: 0.7407 - val_loss: 0.2184 - val_accuracy: 0.7435\n",
      "\n",
      "Epoch 00004: val_loss improved from 0.22115 to 0.21845, saving model to ..\\NLPCourseWork\\models\\BidirectionalLSTM.hdf5\n",
      "Epoch 5/10\n",
      "367/367 [==============================] - 64s 174ms/step - loss: 0.2027 - accuracy: 0.7528 - val_loss: 0.2113 - val_accuracy: 0.7360\n",
      "\n",
      "Epoch 00005: val_loss improved from 0.21845 to 0.21133, saving model to ..\\NLPCourseWork\\models\\BidirectionalLSTM.hdf5\n",
      "Epoch 6/10\n",
      "367/367 [==============================] - 64s 174ms/step - loss: 0.2028 - accuracy: 0.7475 - val_loss: 0.2048 - val_accuracy: 0.7279\n",
      "\n",
      "Epoch 00006: val_loss improved from 0.21133 to 0.20483, saving model to ..\\NLPCourseWork\\models\\BidirectionalLSTM.hdf5\n",
      "Epoch 7/10\n",
      "367/367 [==============================] - 65s 177ms/step - loss: 0.1963 - accuracy: 0.7461 - val_loss: 0.2045 - val_accuracy: 0.7463\n",
      "\n",
      "Epoch 00007: val_loss improved from 0.20483 to 0.20445, saving model to ..\\NLPCourseWork\\models\\BidirectionalLSTM.hdf5\n",
      "Epoch 8/10\n",
      "367/367 [==============================] - 66s 180ms/step - loss: 0.1891 - accuracy: 0.7512 - val_loss: 0.2029 - val_accuracy: 0.7452\n",
      "\n",
      "Epoch 00008: val_loss improved from 0.20445 to 0.20290, saving model to ..\\NLPCourseWork\\models\\BidirectionalLSTM.hdf5\n",
      "Epoch 9/10\n",
      "367/367 [==============================] - 64s 174ms/step - loss: 0.1798 - accuracy: 0.7603 - val_loss: 0.1984 - val_accuracy: 0.7176\n",
      "\n",
      "Epoch 00009: val_loss improved from 0.20290 to 0.19843, saving model to ..\\NLPCourseWork\\models\\BidirectionalLSTM.hdf5\n",
      "Epoch 10/10\n",
      "367/367 [==============================] - 56s 152ms/step - loss: 0.1759 - accuracy: 0.7652 - val_loss: 0.1979 - val_accuracy: 0.7350\n",
      "\n",
      "Epoch 00010: val_loss improved from 0.19843 to 0.19786, saving model to ..\\NLPCourseWork\\models\\BidirectionalLSTM.hdf5\n"
     ]
    }
   ],
   "source": [
    "model_BidirectionalLSTM_his=fit_model(model_BidirectionalLSTM,modelpath_BidirectionalLSTM,'')"
   ]
  },
  {
   "cell_type": "code",
   "execution_count": 30,
   "metadata": {},
   "outputs": [
    {
     "name": "stdout",
     "output_type": "stream",
     "text": [
      "The path of the saved model is ..\\NLPCourseWork\\models\\BidirectionalLSTM.hdf5\n",
      "197/197 [==============================] - 9s 42ms/step - loss: 0.1925 - accuracy: 0.7537\n",
      "Research Papers Test Score :(Model with Bidirectional-LSTM) 0.19246406853199005\n",
      "Research Papers Test Accuracy :(Model with Bidirectional-LSTM) 0.7536554336547852\n",
      "Confusion Matrix of -  for model with Bidirectional-LSTM\n",
      "[[[3354  325]\n",
      "  [ 534 2079]]\n",
      "\n",
      " [[4224  258]\n",
      "  [ 216 1594]]\n",
      "\n",
      " [[4307  327]\n",
      "  [ 314 1344]]\n",
      "\n",
      " [[4440  319]\n",
      "  [ 417 1116]]\n",
      "\n",
      " [[6033   81]\n",
      "  [  87   91]]\n",
      "\n",
      " [[6192   24]\n",
      "  [  40   36]]]\n",
      "Classification Report\n",
      "                      precision    recall  f1-score   support\n",
      "\n",
      "    Computer Science       0.86      0.80      0.83      2613\n",
      "             Physics       0.86      0.88      0.87      1810\n",
      "         Mathematics       0.80      0.81      0.81      1658\n",
      "          Statistics       0.78      0.73      0.75      1533\n",
      "Quantitative Biology       0.53      0.51      0.52       178\n",
      "Quantitative Finance       0.60      0.47      0.53        76\n",
      "\n",
      "           micro avg       0.82      0.80      0.81      7868\n",
      "           macro avg       0.74      0.70      0.72      7868\n",
      "        weighted avg       0.82      0.80      0.81      7868\n",
      "         samples avg       0.84      0.83      0.82      7868\n",
      "\n",
      "confusion matrix function\n"
     ]
    }
   ],
   "source": [
    "print(\"The path of the saved model is \"+modelpath_BidirectionalLSTM)\n",
    "evaluate(modelpath_BidirectionalLSTM,\"(Model with Bidirectional-LSTM)\")\n",
    "confusion_matrix(modelpath_BidirectionalLSTM,\"for model with Bidirectional-LSTM\")"
   ]
  },
  {
   "cell_type": "markdown",
   "metadata": {},
   "source": [
    "I have displayed the outcome in confusion matrix with the labels. Detecting the labels but it overfits with test data. In below graph my loss also reduces and fluctuation in accuracy with test data."
   ]
  },
  {
   "cell_type": "code",
   "execution_count": 31,
   "metadata": {
    "scrolled": true
   },
   "outputs": [
    {
     "data": {
      "image/png": "[encoded data removed]",
      "text/plain": [
       "<Figure size 432x288 with 1 Axes>"
      ]
     },
     "metadata": {},
     "output_type": "display_data"
    },
    {
     "data": {
      "image/png": "[encoded data removed]",
      "text/plain": [
       "<Figure size 432x288 with 1 Axes>"
      ]
     },
     "metadata": {},
     "output_type": "display_data"
    }
   ],
   "source": [
    "plotmetrics(model_BidirectionalLSTM_his,\"with Bi-directional LSTM\")"
   ]
  },
  {
   "cell_type": "markdown",
   "metadata": {},
   "source": [
    "# Step 6: Applying the trained model on unseen test data"
   ]
  },
  {
   "cell_type": "code",
   "execution_count": 37,
   "metadata": {},
   "outputs": [
    {
     "name": "stdout",
     "output_type": "stream",
     "text": [
      "      ID                                              TITLE  \\\n",
      "0  20973  Closed-form Marginal Likelihood in Gamma-Poiss...   \n",
      "1  20974  Laboratory mid-IR spectra of equilibrated and ...   \n",
      "2  20975         Case For Static AMSDU Aggregation in WLANs   \n",
      "3  20976  The $Gaia$-ESO Survey: the inner disk intermed...   \n",
      "4  20977  Witness-Functions versus Interpretation-Functi...   \n",
      "\n",
      "                                            ABSTRACT  \n",
      "0  we present novel understandings of the gamma-p...  \n",
      "1  meteorites contain minerals from solar system ...  \n",
      "2  frame aggregation is a mechanism by which mult...  \n",
      "3  milky way open clusters are very diverse in te...  \n",
      "4  proving that a cryptographic protocol is corre...  \n",
      "[0 0 1 0 0 0]\n"
     ]
    }
   ],
   "source": [
    "\n",
    "\n",
    "test_respapers = pd.read_csv('C:/Users/priyanka/OneDrive - University of Surrey/NLPCourseWork/ResearchPapersDataset/test.csv')\n",
    "#Remove punctuation\n",
    "\n",
    "test_respapers['ABSTRACT'] = test_respapers['ABSTRACT'].map(lambda com : clean_text(com))\n",
    "\n",
    "#decontracting the text()\n",
    "test_respapers['ABSTRACT'] = test_respapers['ABSTRACT'].apply(lambda x: remove_punctuation(x))\n",
    "\n",
    "# Print out the first rows of papers\n",
    "print(test_respapers.head())\n",
    "\n",
    "tokenizer = Tokenizer(num_words=500)\n",
    "tokenizer.fit_on_texts(test_respapers['ABSTRACT'])\n",
    "\n",
    "X_train = tokenizer.texts_to_sequences(test_respapers['ABSTRACT'])\n",
    "maxlen = 200\n",
    "X_train = pad_sequences(X_train, padding='post', maxlen=maxlen)\n",
    "lstm_model = keras.models.load_model(modelpath_BidirectionalLSTM)\n",
    "Y_pred = lstm_model.predict(X_train)\n",
    "Y_pred  = np.where(Y_pred > 0.5, 1, 0)\n",
    "print(Y_pred[2])\n"
   ]
  },
  {
   "cell_type": "code",
   "execution_count": 38,
   "metadata": {},
   "outputs": [
    {
     "name": "stdout",
     "output_type": "stream",
     "text": [
      "[0 0 1 0 0 0]\n"
     ]
    }
   ],
   "source": [
    "myPreds= np.vstack(Y_pred)\n",
    "print(myPreds[2])"
   ]
  },
  {
   "cell_type": "code",
   "execution_count": 39,
   "metadata": {},
   "outputs": [],
   "source": [
    "for i, col in enumerate([\"Computer Science\",\"Physics\",\"Mathematics\",\"Statistics\",\"Quantitative Biology\",\"Quantitative Finance\"]):\n",
    "    test_respapers[col] = myPreds[:, i]"
   ]
  },
  {
   "cell_type": "code",
   "execution_count": 40,
   "metadata": {},
   "outputs": [],
   "source": [
    "test_respapers.drop(\"ABSTRACT\", axis=1).to_csv(\"submissionTwo.csv\", index=False)"
   ]
  },
  {
   "cell_type": "markdown",
   "metadata": {},
   "source": [
    "**Conclusion:**\n",
    "\n",
    "- Model performs well with Bi-directional LSTM  with high precision and recall for all the labels, but it overfitts for test data\n",
    "\n",
    "**Future Improvements:**\n",
    "\n",
    "- Work on the overfitting techniques like  different dropout variations, decay and early stopping methods\n",
    "- Work on  Balancing the datasets with upsampling or downsampling the data\n",
    "- Perform Cross validation"
   ]
  },
  {
   "cell_type": "markdown",
   "metadata": {},
   "source": [
    "**References:**\n",
    "    \n",
    "  - https://developpaper.com/python-for-nlp-multi-label-text-lstm-neural-network-classification-using-keras/  \n",
    "  \n",
    "  - https://www.kaggle.com/trolukovich/multi-label-classification-keras\n",
    "  \n",
    "  - https://machinelearningmastery.com/understand-the-dynamics-of-learning-rate-on-deep-learning-neural-networks/\n",
    "  \n",
    "  - https://medium.com/swlh/multi-label-text-classification-with-scikit-learn-and-tensorflow-257f9ee30536\n",
    "    \n",
    "    "
   ]
  },
  {
   "cell_type": "code",
   "execution_count": null,
   "metadata": {},
   "outputs": [],
   "source": []
  }
 ],
 "metadata": {
  "colab": {
   "authorship_tag": "ABX9TyNRsKP/AcSqfMvm1AzuV37i",
   "collapsed_sections": [],
   "name": "Untitled0.ipynb",
   "provenance": []
  },
  "kernelspec": {
   "display_name": "Python 3",
   "language": "python",
   "name": "python3"
  },
  "language_info": {
   "codemirror_mode": {
    "name": "ipython",
    "version": 3
   },
   "file_extension": ".py",
   "mimetype": "text/x-python",
   "name": "python",
   "nbconvert_exporter": "python",
   "pygments_lexer": "ipython3",
   "version": "3.9.1"
  }
 },
 "nbformat": 4,
 "nbformat_minor": 1
}
