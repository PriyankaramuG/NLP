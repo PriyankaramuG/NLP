{
 "cells": [
  {
   "cell_type": "markdown",
   "metadata": {},
   "source": [
    "# Topic: Research Papers Categorization \n",
    "\n",
    "In this notebook i have experiemented with Data preprocessing techniques by including:\n",
    "\n",
    "- Removal of stopwords\n",
    "- Lemmatization\n"
   ]
  },
  {
   "cell_type": "markdown",
   "metadata": {},
   "source": [
    "# Step 1: Data Visualization\n",
    "\n",
    "\n",
    "In this step i am checking for null values, distribution of labels and balance of the data across the labels"
   ]
  },
  {
   "cell_type": "code",
   "execution_count": 1,
   "metadata": {},
   "outputs": [
    {
     "name": "stdout",
     "output_type": "stream",
     "text": [
      "INFO:tensorflow:Enabling eager execution\n",
      "INFO:tensorflow:Enabling v2 tensorshape\n",
      "INFO:tensorflow:Enabling resource variables\n",
      "INFO:tensorflow:Enabling tensor equality\n",
      "INFO:tensorflow:Enabling control flow v2\n"
     ]
    }
   ],
   "source": [
    "#importing all the dependencies\n",
    "from numpy import array\n",
    "from keras.preprocessing.text import one_hot\n",
    "from keras.preprocessing.sequence import pad_sequences\n",
    "from keras.models import Sequential\n",
    "from keras.layers.core import Activation, Dropout, Dense\n",
    "from keras.layers import Flatten, LSTM\n",
    "from keras.layers import GlobalMaxPooling1D\n",
    "from keras.models import Model\n",
    "from keras.layers.embeddings import Embedding\n",
    "from sklearn.model_selection import train_test_split\n",
    "from keras.preprocessing.text import Tokenizer\n",
    "from keras.layers import Input\n",
    "from keras.layers.merge import Concatenate\n",
    "import pandas as pd\n",
    "import numpy as np\n",
    "import re\n",
    "import matplotlib.pyplot as plt\n",
    "import seaborn as sns\n",
    "from numpy import array\n",
    "from numpy import asarray\n",
    "from numpy import zeros\n"
   ]
  },
  {
   "cell_type": "markdown",
   "metadata": {},
   "source": [
    "Path of the :\n",
    "- Test and Train data\n",
    "- GloVe embedding file \n",
    "- Saved model\n",
    "\n",
    "**change the path to run the experiement in your local**\n",
    "(Note: I am loading the absolute path as it was throwing error as file not found) "
   ]
  },
  {
   "cell_type": "code",
   "execution_count": 19,
   "metadata": {},
   "outputs": [],
   "source": [
    "train_respapers = pd.read_csv('C:/Users/priyanka/OneDrive - University of Surrey/NLPCourseWork/ResearchPapersDataset/train.csv')\n",
    "test_respapers = pd.read_csv('C:/Users/priyanka/OneDrive - University of Surrey/NLPCourseWork/ResearchPapersDataset/test.csv')\n",
    "\n",
    "modelpath_WithDataPreVar=\"C:\\\\Users\\\\priyanka\\\\OneDrive - University of Surrey\\\\NLPCourseWork\\\\ModelWithDataPreVar.hdf5\"\n",
    "glovepath_file='C:\\\\Users\\\\priyanka\\\\OneDrive - University of Surrey\\\\NLPCourseWork\\\\glove.6B.100d.txt'"
   ]
  },
  {
   "cell_type": "code",
   "execution_count": 3,
   "metadata": {
    "colab": {
     "base_uri": "https://localhost:8080/",
     "height": 296
    },
    "executionInfo": {
     "elapsed": 465,
     "status": "ok",
     "timestamp": 1618770920340,
     "user": {
      "displayName": "Priyanka r",
      "photoUrl": "https://lh3.googleusercontent.com/a-/AOh14GgaUYS2fg6dH-H1F0UFHSjiqCjjplyS1ieEaYL9GA=s64",
      "userId": "10955679455878247208"
     },
     "user_tz": -60
    },
    "id": "xvfrxyq6P1zz",
    "outputId": "9bb6ca6f-7c09-40f5-c5db-fd0c25dbe010"
   },
   "outputs": [
    {
     "name": "stdout",
     "output_type": "stream",
     "text": [
      "Number of rows in data = 20972\n",
      "Number of columns in data = 9\n",
      "\n",
      "\n",
      "**Sample data:**\n"
     ]
    },
    {
     "data": {
      "text/html": [
       "<div>\n",
       "<style scoped>\n",
       "    .dataframe tbody tr th:only-of-type {\n",
       "        vertical-align: middle;\n",
       "    }\n",
       "\n",
       "    .dataframe tbody tr th {\n",
       "        vertical-align: top;\n",
       "    }\n",
       "\n",
       "    .dataframe thead th {\n",
       "        text-align: right;\n",
       "    }\n",
       "</style>\n",
       "<table border=\"1\" class=\"dataframe\">\n",
       "  <thead>\n",
       "    <tr style=\"text-align: right;\">\n",
       "      <th></th>\n",
       "      <th>ID</th>\n",
       "      <th>TITLE</th>\n",
       "      <th>ABSTRACT</th>\n",
       "      <th>Computer Science</th>\n",
       "      <th>Physics</th>\n",
       "      <th>Mathematics</th>\n",
       "      <th>Statistics</th>\n",
       "      <th>Quantitative Biology</th>\n",
       "      <th>Quantitative Finance</th>\n",
       "    </tr>\n",
       "  </thead>\n",
       "  <tbody>\n",
       "    <tr>\n",
       "      <th>0</th>\n",
       "      <td>1</td>\n",
       "      <td>Reconstructing Subject-Specific Effect Maps</td>\n",
       "      <td>Predictive models allow subject-specific inf...</td>\n",
       "      <td>1</td>\n",
       "      <td>0</td>\n",
       "      <td>0</td>\n",
       "      <td>0</td>\n",
       "      <td>0</td>\n",
       "      <td>0</td>\n",
       "    </tr>\n",
       "    <tr>\n",
       "      <th>1</th>\n",
       "      <td>2</td>\n",
       "      <td>Rotation Invariance Neural Network</td>\n",
       "      <td>Rotation invariance and translation invarian...</td>\n",
       "      <td>1</td>\n",
       "      <td>0</td>\n",
       "      <td>0</td>\n",
       "      <td>0</td>\n",
       "      <td>0</td>\n",
       "      <td>0</td>\n",
       "    </tr>\n",
       "    <tr>\n",
       "      <th>2</th>\n",
       "      <td>3</td>\n",
       "      <td>Spherical polyharmonics and Poisson kernels fo...</td>\n",
       "      <td>We introduce and develop the notion of spher...</td>\n",
       "      <td>0</td>\n",
       "      <td>0</td>\n",
       "      <td>1</td>\n",
       "      <td>0</td>\n",
       "      <td>0</td>\n",
       "      <td>0</td>\n",
       "    </tr>\n",
       "    <tr>\n",
       "      <th>3</th>\n",
       "      <td>4</td>\n",
       "      <td>A finite element approximation for the stochas...</td>\n",
       "      <td>The stochastic Landau--Lifshitz--Gilbert (LL...</td>\n",
       "      <td>0</td>\n",
       "      <td>0</td>\n",
       "      <td>1</td>\n",
       "      <td>0</td>\n",
       "      <td>0</td>\n",
       "      <td>0</td>\n",
       "    </tr>\n",
       "    <tr>\n",
       "      <th>4</th>\n",
       "      <td>5</td>\n",
       "      <td>Comparative study of Discrete Wavelet Transfor...</td>\n",
       "      <td>Fourier-transform infra-red (FTIR) spectra o...</td>\n",
       "      <td>1</td>\n",
       "      <td>0</td>\n",
       "      <td>0</td>\n",
       "      <td>1</td>\n",
       "      <td>0</td>\n",
       "      <td>0</td>\n",
       "    </tr>\n",
       "  </tbody>\n",
       "</table>\n",
       "</div>"
      ],
      "text/plain": [
       "   ID                                              TITLE  \\\n",
       "0   1        Reconstructing Subject-Specific Effect Maps   \n",
       "1   2                 Rotation Invariance Neural Network   \n",
       "2   3  Spherical polyharmonics and Poisson kernels fo...   \n",
       "3   4  A finite element approximation for the stochas...   \n",
       "4   5  Comparative study of Discrete Wavelet Transfor...   \n",
       "\n",
       "                                            ABSTRACT  Computer Science  \\\n",
       "0    Predictive models allow subject-specific inf...                 1   \n",
       "1    Rotation invariance and translation invarian...                 1   \n",
       "2    We introduce and develop the notion of spher...                 0   \n",
       "3    The stochastic Landau--Lifshitz--Gilbert (LL...                 0   \n",
       "4    Fourier-transform infra-red (FTIR) spectra o...                 1   \n",
       "\n",
       "   Physics  Mathematics  Statistics  Quantitative Biology  \\\n",
       "0        0            0           0                     0   \n",
       "1        0            0           0                     0   \n",
       "2        0            1           0                     0   \n",
       "3        0            1           0                     0   \n",
       "4        0            0           1                     0   \n",
       "\n",
       "   Quantitative Finance  \n",
       "0                     0  \n",
       "1                     0  \n",
       "2                     0  \n",
       "3                     0  \n",
       "4                     0  "
      ]
     },
     "execution_count": 3,
     "metadata": {},
     "output_type": "execute_result"
    }
   ],
   "source": [
    "print(\"Number of rows in data =\",train_respapers.shape[0])\n",
    "print(\"Number of columns in data =\",train_respapers.shape[1])\n",
    "print(\"\\n\")\n",
    "print(\"**Sample data:**\")\n",
    "train_respapers.head()"
   ]
  },
  {
   "cell_type": "code",
   "execution_count": 4,
   "metadata": {
    "colab": {
     "base_uri": "https://localhost:8080/"
    },
    "executionInfo": {
     "elapsed": 568,
     "status": "ok",
     "timestamp": 1618773503245,
     "user": {
      "displayName": "Priyanka r",
      "photoUrl": "https://lh3.googleusercontent.com/a-/AOh14GgaUYS2fg6dH-H1F0UFHSjiqCjjplyS1ieEaYL9GA=s64",
      "userId": "10955679455878247208"
     },
     "user_tz": -60
    },
    "id": "eIrffKIoazWe",
    "outputId": "ebf18671-9504-41bb-c927-704c1642ff87"
   },
   "outputs": [
    {
     "name": "stdout",
     "output_type": "stream",
     "text": [
      "Check for Missing values:\n",
      " \n",
      "ID                      0\n",
      "TITLE                   0\n",
      "ABSTRACT                0\n",
      "Computer Science        0\n",
      "Physics                 0\n",
      "Mathematics             0\n",
      "Statistics              0\n",
      "Quantitative Biology    0\n",
      "Quantitative Finance    0\n",
      "dtype: int64\n"
     ]
    }
   ],
   "source": [
    "#check for missing values\n",
    "missing_values_check = train_respapers.isnull().sum()\n",
    "print(\"Check for Missing values:\\n \")\n",
    "print(missing_values_check)"
   ]
  },
  {
   "cell_type": "markdown",
   "metadata": {},
   "source": [
    "There are no any null or missing values in data and all the labels are tagged to data"
   ]
  },
  {
   "cell_type": "code",
   "execution_count": 5,
   "metadata": {
    "colab": {
     "base_uri": "https://localhost:8080/"
    },
    "executionInfo": {
     "elapsed": 607,
     "status": "ok",
     "timestamp": 1618773646059,
     "user": {
      "displayName": "Priyanka r",
      "photoUrl": "https://lh3.googleusercontent.com/a-/AOh14GgaUYS2fg6dH-H1F0UFHSjiqCjjplyS1ieEaYL9GA=s64",
      "userId": "10955679455878247208"
     },
     "user_tz": -60
    },
    "id": "cKduslOjbF-p",
    "outputId": "993b6c1c-74ef-413b-a7fa-44e2d1eed159"
   },
   "outputs": [
    {
     "name": "stdout",
     "output_type": "stream",
     "text": [
      "Total number of papers =  20972\n",
      "Number of papers with labels = 20972\n"
     ]
    }
   ],
   "source": [
    "#Check for the Papers without labels\n",
    "rowSums = train_respapers.iloc[:,3:].sum(axis=1)\n",
    "clean_comments_count = (rowSums==0).sum(axis=0)\n",
    "\n",
    "print(\"Total number of papers = \",len(train_respapers))\n",
    "print(\"Number of papers with labels =\",(len(train_respapers)-clean_comments_count))"
   ]
  },
  {
   "cell_type": "code",
   "execution_count": 6,
   "metadata": {
    "colab": {
     "base_uri": "https://localhost:8080/"
    },
    "executionInfo": {
     "elapsed": 516,
     "status": "ok",
     "timestamp": 1618773695313,
     "user": {
      "displayName": "Priyanka r",
      "photoUrl": "https://lh3.googleusercontent.com/a-/AOh14GgaUYS2fg6dH-H1F0UFHSjiqCjjplyS1ieEaYL9GA=s64",
      "userId": "10955679455878247208"
     },
     "user_tz": -60
    },
    "id": "YW-fUiqAbiO7",
    "outputId": "6bd9d25e-015b-4412-a95d-1205421d67f8"
   },
   "outputs": [
    {
     "name": "stdout",
     "output_type": "stream",
     "text": [
      "List of Labels:  ['Computer Science', 'Physics', 'Mathematics', 'Statistics', 'Quantitative Biology', 'Quantitative Finance']\n"
     ]
    }
   ],
   "source": [
    "#print the list of Target labels\n",
    "categories = list(train_respapers.columns.values)\n",
    "categories = categories[3:]\n",
    "print(\"List of Labels: \",categories)"
   ]
  },
  {
   "cell_type": "code",
   "execution_count": 7,
   "metadata": {
    "colab": {
     "base_uri": "https://localhost:8080/",
     "height": 225
    },
    "executionInfo": {
     "elapsed": 477,
     "status": "ok",
     "timestamp": 1618773826567,
     "user": {
      "displayName": "Priyanka r",
      "photoUrl": "https://lh3.googleusercontent.com/a-/AOh14GgaUYS2fg6dH-H1F0UFHSjiqCjjplyS1ieEaYL9GA=s64",
      "userId": "10955679455878247208"
     },
     "user_tz": -60
    },
    "id": "DO0pDLtDbrX7",
    "outputId": "692445c2-0bae-48bf-81c2-7503390bbca0"
   },
   "outputs": [
    {
     "name": "stdout",
     "output_type": "stream",
     "text": [
      "      Research Category  Number of Papers\n",
      "0      Computer Science              8594\n",
      "1               Physics              6013\n",
      "2           Mathematics              5618\n",
      "3            Statistics              5206\n",
      "4  Quantitative Biology               587\n",
      "5  Quantitative Finance               249\n"
     ]
    }
   ],
   "source": [
    "# Calculating number of research papers in each category\n",
    "counts = []\n",
    "for category in categories:\n",
    "    counts.append((category, train_respapers[category].sum()))\n",
    "df_stats = pd.DataFrame(counts, columns=['Research Category', 'Number of Papers'])\n",
    "print(df_stats)"
   ]
  },
  {
   "cell_type": "code",
   "execution_count": 8,
   "metadata": {
    "colab": {
     "base_uri": "https://localhost:8080/",
     "height": 585
    },
    "executionInfo": {
     "elapsed": 1125,
     "status": "ok",
     "timestamp": 1618774593573,
     "user": {
      "displayName": "Priyanka r",
      "photoUrl": "https://lh3.googleusercontent.com/a-/AOh14GgaUYS2fg6dH-H1F0UFHSjiqCjjplyS1ieEaYL9GA=s64",
      "userId": "10955679455878247208"
     },
     "user_tz": -60
    },
    "id": "o7gmr0BucIP-",
    "outputId": "0dbf66b3-0bbd-47bc-f065-e8cdf00d098b"
   },
   "outputs": [
    {
     "data": {
      "image/png": "[encoded data removed]",
      "text/plain": [
       "<Figure size 1080x576 with 1 Axes>"
      ]
     },
     "metadata": {
      "needs_background": "light"
     },
     "output_type": "display_data"
    }
   ],
   "source": [
    "plt.figure(figsize=(15,8))\n",
    "sns.set(style=\"whitegrid\")\n",
    "ax= sns.barplot(x=categories, y=train_respapers.iloc[:,3:].sum().values)\n",
    "\n",
    "plt.title(\"Papers in each category\", fontsize=20)\n",
    "plt.ylabel('Number of Papers', fontsize=16)\n",
    "plt.xlabel('Research Category', fontsize=16)\n",
    "\n",
    "#adding the text labels\n",
    "rects = ax.patches\n",
    "labels = train_respapers.iloc[:,3:].sum().values\n",
    "for rect, label in zip(rects, labels):\n",
    "    height = rect.get_height()\n",
    "    ax.text(rect.get_x() + rect.get_width()/2, height + 5, label, ha='center', va='bottom', fontsize=17)\n",
    "    ax.set_xticklabels(ax.get_xticklabels(), fontsize=13)\n",
    "plt.show()"
   ]
  },
  {
   "cell_type": "markdown",
   "metadata": {},
   "source": [
    "The data is very imbalanced with only 587 records with \"Quantitative Biology\" and 249 records with \"Quantitative Finance\""
   ]
  },
  {
   "cell_type": "code",
   "execution_count": 9,
   "metadata": {
    "colab": {
     "base_uri": "https://localhost:8080/",
     "height": 582
    },
    "executionInfo": {
     "elapsed": 1537,
     "status": "ok",
     "timestamp": 1618775264036,
     "user": {
      "displayName": "Priyanka r",
      "photoUrl": "https://lh3.googleusercontent.com/a-/AOh14GgaUYS2fg6dH-H1F0UFHSjiqCjjplyS1ieEaYL9GA=s64",
      "userId": "10955679455878247208"
     },
     "user_tz": -60
    },
    "id": "BfBNNY55Tk-B",
    "outputId": "1d4e92d6-0515-4fae-86ff-92b65740eb2a"
   },
   "outputs": [
    {
     "data": {
      "image/png": "[encoded data removed]",
      "text/plain": [
       "<Figure size 1080x576 with 1 Axes>"
      ]
     },
     "metadata": {},
     "output_type": "display_data"
    }
   ],
   "source": [
    "rowSums = train_respapers.iloc[:,2:].sum(axis=1)\n",
    "\n",
    "multiLabel_counts = rowSums.value_counts().iloc[1:]\n",
    "\n",
    "plt.figure(figsize=(15,8))\n",
    "sns.set(style=\"whitegrid\")\n",
    "ax = sns.barplot(x=multiLabel_counts.index, y=multiLabel_counts.values)\n",
    "\n",
    "plt.title(\"Research Papers having multiple labels\", fontsize=20)\n",
    "plt.ylabel('Number of Papers', fontsize=16)\n",
    "plt.xlabel('Number of Categories', fontsize=16)\n",
    "\n",
    "#adding the text labels\n",
    "rects = ax.patches\n",
    "labels = multiLabel_counts.values\n",
    "for rect, label in zip(rects, labels):\n",
    "    height = rect.get_height()\n",
    "    ax.text(rect.get_x() + rect.get_width()/2, height + 5, label, ha='center', va='bottom')\n",
    "\n",
    "plt.show()"
   ]
  },
  {
   "cell_type": "markdown",
   "metadata": {},
   "source": [
    "In the above plot, I am trying show the no. of records having more than one categories where 4793 records have 2 categories and 251 records have 3 categories"
   ]
  },
  {
   "cell_type": "markdown",
   "metadata": {},
   "source": [
    "# Step 2 : Data Preprocessing\n",
    "\n",
    "I am performing below data preprocessing of input label which is ' **ABSTRACT** ':\n",
    "\n",
    "- Remove Punctuation\n",
    "- Decontracting the text\n",
    "- Remove Stop words\n",
    "- Lemmatization\n",
    "- Tokenizing\n",
    "- De-tokenizing"
   ]
  },
  {
   "cell_type": "code",
   "execution_count": 10,
   "metadata": {},
   "outputs": [
    {
     "name": "stderr",
     "output_type": "stream",
     "text": [
      "[nltk_data] Downloading package stopwords to\n",
      "[nltk_data]     C:\\Users\\priyanka\\AppData\\Roaming\\nltk_data...\n",
      "[nltk_data]   Package stopwords is already up-to-date!\n"
     ]
    }
   ],
   "source": [
    "# Load the regular expression library and spacy library\n",
    "import re\n",
    "import spacy\n",
    "import gensim\n",
    "from gensim.utils import simple_preprocess\n",
    "from nltk.tokenize.treebank import TreebankWordDetokenizer\n",
    "# NLTK Stop words\n",
    "import nltk\n",
    "nltk.download('stopwords')\n",
    "from nltk.corpus import stopwords\n",
    "\n",
    "stop_words = stopwords.words('english')\n",
    "stop_words.extend(['from', 'subject', 're', 'edu', 'use'])\n",
    "# Remove punctuation\n",
    "def remove_punctuation(text):\n",
    "    text = re.sub('[,\\.!?]', '', text)\n",
    "    return text\n",
    "\n",
    "#tokenization\n",
    "def sent_to_words(sentences):\n",
    "    for sentence in sentences:\n",
    "        yield(gensim.utils.simple_preprocess(str(sentence), deacc=False)) \n",
    "        \n",
    "#remove stopwords        \n",
    "def remove_stopwords(texts):\n",
    "    return [[word for word in simple_preprocess(str(doc)) if word not in stop_words] for doc in texts]\n",
    "\n",
    "# decontract the text\n",
    "def clean_text(text):\n",
    "    text = text.lower()\n",
    "    text = re.sub(r\"what's\", \"what is \", text)\n",
    "    text = re.sub(r\"\\'s\", \" \", text)\n",
    "    text = re.sub(r\"\\'ve\", \" have \", text)\n",
    "    text = re.sub(r\"can't\", \"cannot \", text)\n",
    "    text = re.sub(r\"n't\", \" not \", text)\n",
    "    text = re.sub(r\"i'm\", \"i am \", text)\n",
    "    text = re.sub(r\"\\'re\", \" are \", text)\n",
    "    text = re.sub(r\"\\'d\", \" would \", text)\n",
    "    text = re.sub(r\"\\'ll\", \" will \", text)\n",
    "    text = re.sub(r\"\\'scuse\", \" excuse \", text)\n",
    "    text = text.strip(' ')\n",
    "    return text\n",
    "\n",
    "\n",
    "#Lemmatization\n",
    "nlp = spacy.load(\"en_core_web_sm\", disable=['parser', 'ner'])\n",
    "def lemmatization(texts, allowed_postags=['NOUN', 'ADJ', 'VERB', 'ADV']):\n",
    "    \"\"\"https://spacy.io/api/annotation\"\"\"\n",
    "    texts_out = []\n",
    "    for sent in texts:\n",
    "        doc = nlp(\" \".join(sent)) \n",
    "        texts_out.append([token.lemma_ for token in doc if token.pos_ in allowed_postags])\n",
    "    return texts_out\n",
    "\n",
    "def detokenize(text):\n",
    "    return TreebankWordDetokenizer().detokenize(text)"
   ]
  },
  {
   "cell_type": "code",
   "execution_count": 12,
   "metadata": {},
   "outputs": [
    {
     "data": {
      "text/html": [
       "<div>\n",
       "<style scoped>\n",
       "    .dataframe tbody tr th:only-of-type {\n",
       "        vertical-align: middle;\n",
       "    }\n",
       "\n",
       "    .dataframe tbody tr th {\n",
       "        vertical-align: top;\n",
       "    }\n",
       "\n",
       "    .dataframe thead th {\n",
       "        text-align: right;\n",
       "    }\n",
       "</style>\n",
       "<table border=\"1\" class=\"dataframe\">\n",
       "  <thead>\n",
       "    <tr style=\"text-align: right;\">\n",
       "      <th></th>\n",
       "      <th>ID</th>\n",
       "      <th>TITLE</th>\n",
       "      <th>ABSTRACT</th>\n",
       "      <th>Computer Science</th>\n",
       "      <th>Physics</th>\n",
       "      <th>Mathematics</th>\n",
       "      <th>Statistics</th>\n",
       "      <th>Quantitative Biology</th>\n",
       "      <th>Quantitative Finance</th>\n",
       "      <th>body_cleantext</th>\n",
       "      <th>body_text_nopunc</th>\n",
       "      <th>new_abstract</th>\n",
       "      <th>ABSTRACT_detokenize</th>\n",
       "    </tr>\n",
       "  </thead>\n",
       "  <tbody>\n",
       "    <tr>\n",
       "      <th>0</th>\n",
       "      <td>1</td>\n",
       "      <td>Reconstructing Subject-Specific Effect Maps</td>\n",
       "      <td>predictive model allow specific inference anal...</td>\n",
       "      <td>1</td>\n",
       "      <td>0</td>\n",
       "      <td>0</td>\n",
       "      <td>0</td>\n",
       "      <td>0</td>\n",
       "      <td>0</td>\n",
       "      <td>predictive models allow subject-specific infer...</td>\n",
       "      <td>predictive models allow subject-specific infer...</td>\n",
       "      <td>[predictive, model, allow, specific, inference...</td>\n",
       "      <td>predictive model allow specific inference anal...</td>\n",
       "    </tr>\n",
       "    <tr>\n",
       "      <th>1</th>\n",
       "      <td>2</td>\n",
       "      <td>Rotation Invariance Neural Network</td>\n",
       "      <td>rotation invariance translation invariance gre...</td>\n",
       "      <td>1</td>\n",
       "      <td>0</td>\n",
       "      <td>0</td>\n",
       "      <td>0</td>\n",
       "      <td>0</td>\n",
       "      <td>0</td>\n",
       "      <td>rotation invariance and translation invariance...</td>\n",
       "      <td>rotation invariance and translation invariance...</td>\n",
       "      <td>[rotation, invariance, translation, invariance...</td>\n",
       "      <td>rotation invariance translation invariance gre...</td>\n",
       "    </tr>\n",
       "    <tr>\n",
       "      <th>2</th>\n",
       "      <td>3</td>\n",
       "      <td>Spherical polyharmonics and Poisson kernels fo...</td>\n",
       "      <td>introduce develop notion spherical polyharmoni...</td>\n",
       "      <td>0</td>\n",
       "      <td>0</td>\n",
       "      <td>1</td>\n",
       "      <td>0</td>\n",
       "      <td>0</td>\n",
       "      <td>0</td>\n",
       "      <td>we introduce and develop the notion of spheric...</td>\n",
       "      <td>we introduce and develop the notion of spheric...</td>\n",
       "      <td>[introduce, develop, notion, spherical, polyha...</td>\n",
       "      <td>introduce develop notion spherical polyharmoni...</td>\n",
       "    </tr>\n",
       "    <tr>\n",
       "      <th>3</th>\n",
       "      <td>4</td>\n",
       "      <td>A finite element approximation for the stochas...</td>\n",
       "      <td>stochastic couple maxwell equation call system...</td>\n",
       "      <td>0</td>\n",
       "      <td>0</td>\n",
       "      <td>1</td>\n",
       "      <td>0</td>\n",
       "      <td>0</td>\n",
       "      <td>0</td>\n",
       "      <td>the stochastic landau--lifshitz--gilbert (llg)...</td>\n",
       "      <td>the stochastic landau--lifshitz--gilbert (llg)...</td>\n",
       "      <td>[stochastic, couple, maxwell, equation, call, ...</td>\n",
       "      <td>stochastic couple maxwell equation call system...</td>\n",
       "    </tr>\n",
       "    <tr>\n",
       "      <th>4</th>\n",
       "      <td>5</td>\n",
       "      <td>Comparative study of Discrete Wavelet Transfor...</td>\n",
       "      <td>fouri red ftir sample plant specie use explore...</td>\n",
       "      <td>1</td>\n",
       "      <td>0</td>\n",
       "      <td>0</td>\n",
       "      <td>1</td>\n",
       "      <td>0</td>\n",
       "      <td>0</td>\n",
       "      <td>fourier-transform infra-red (ftir) spectra of ...</td>\n",
       "      <td>fourier-transform infra-red (ftir) spectra of ...</td>\n",
       "      <td>[fouri, red, ftir, sample, plant, specie, use,...</td>\n",
       "      <td>fouri red ftir sample plant specie use explore...</td>\n",
       "    </tr>\n",
       "  </tbody>\n",
       "</table>\n",
       "</div>"
      ],
      "text/plain": [
       "   ID                                              TITLE  \\\n",
       "0   1        Reconstructing Subject-Specific Effect Maps   \n",
       "1   2                 Rotation Invariance Neural Network   \n",
       "2   3  Spherical polyharmonics and Poisson kernels fo...   \n",
       "3   4  A finite element approximation for the stochas...   \n",
       "4   5  Comparative study of Discrete Wavelet Transfor...   \n",
       "\n",
       "                                            ABSTRACT  Computer Science  \\\n",
       "0  predictive model allow specific inference anal...                 1   \n",
       "1  rotation invariance translation invariance gre...                 1   \n",
       "2  introduce develop notion spherical polyharmoni...                 0   \n",
       "3  stochastic couple maxwell equation call system...                 0   \n",
       "4  fouri red ftir sample plant specie use explore...                 1   \n",
       "\n",
       "   Physics  Mathematics  Statistics  Quantitative Biology  \\\n",
       "0        0            0           0                     0   \n",
       "1        0            0           0                     0   \n",
       "2        0            1           0                     0   \n",
       "3        0            1           0                     0   \n",
       "4        0            0           1                     0   \n",
       "\n",
       "   Quantitative Finance                                     body_cleantext  \\\n",
       "0                     0  predictive models allow subject-specific infer...   \n",
       "1                     0  rotation invariance and translation invariance...   \n",
       "2                     0  we introduce and develop the notion of spheric...   \n",
       "3                     0  the stochastic landau--lifshitz--gilbert (llg)...   \n",
       "4                     0  fourier-transform infra-red (ftir) spectra of ...   \n",
       "\n",
       "                                    body_text_nopunc  \\\n",
       "0  predictive models allow subject-specific infer...   \n",
       "1  rotation invariance and translation invariance...   \n",
       "2  we introduce and develop the notion of spheric...   \n",
       "3  the stochastic landau--lifshitz--gilbert (llg)...   \n",
       "4  fourier-transform infra-red (ftir) spectra of ...   \n",
       "\n",
       "                                        new_abstract  \\\n",
       "0  [predictive, model, allow, specific, inference...   \n",
       "1  [rotation, invariance, translation, invariance...   \n",
       "2  [introduce, develop, notion, spherical, polyha...   \n",
       "3  [stochastic, couple, maxwell, equation, call, ...   \n",
       "4  [fouri, red, ftir, sample, plant, specie, use,...   \n",
       "\n",
       "                                 ABSTRACT_detokenize  \n",
       "0  predictive model allow specific inference anal...  \n",
       "1  rotation invariance translation invariance gre...  \n",
       "2  introduce develop notion spherical polyharmoni...  \n",
       "3  stochastic couple maxwell equation call system...  \n",
       "4  fouri red ftir sample plant specie use explore...  "
      ]
     },
     "execution_count": 12,
     "metadata": {},
     "output_type": "execute_result"
    }
   ],
   "source": [
    "#decontract the text\n",
    "train_respapers['body_cleantext'] = train_respapers['ABSTRACT'].apply(lambda x: clean_text(x))\n",
    "#Remove punctuation\n",
    "train_respapers['body_text_nopunc'] = train_respapers['body_cleantext'].apply(lambda x: remove_punctuation(x))\n",
    "data = train_respapers['body_text_nopunc'].values.tolist()\n",
    "#Tokenization\n",
    "data_words = list(sent_to_words(data))\n",
    "# Remove Stop Words\n",
    "data_words_nostops = remove_stopwords(data_words)\n",
    "#Lemmatization\n",
    "data_lemmatized = lemmatization(data_words_nostops, allowed_postags=['NOUN', 'ADJ', 'VERB', 'ADV'])\n",
    "train_respapers[\"new_abstract\"]=data_lemmatized\n",
    "train_respapers[\"ABSTRACT_detokenize\"]=train_respapers[\"new_abstract\"].apply(lambda x: detokenize(x))\n",
    "#detokenize \n",
    "train_respapers[\"ABSTRACT\"]=train_respapers[\"ABSTRACT_detokenize\"]\n",
    "train_respapers.head()"
   ]
  },
  {
   "cell_type": "code",
   "execution_count": 13,
   "metadata": {},
   "outputs": [
    {
     "data": {
      "text/html": [
       "<div>\n",
       "<style scoped>\n",
       "    .dataframe tbody tr th:only-of-type {\n",
       "        vertical-align: middle;\n",
       "    }\n",
       "\n",
       "    .dataframe tbody tr th {\n",
       "        vertical-align: top;\n",
       "    }\n",
       "\n",
       "    .dataframe thead th {\n",
       "        text-align: right;\n",
       "    }\n",
       "</style>\n",
       "<table border=\"1\" class=\"dataframe\">\n",
       "  <thead>\n",
       "    <tr style=\"text-align: right;\">\n",
       "      <th></th>\n",
       "      <th>ID</th>\n",
       "      <th>TITLE</th>\n",
       "      <th>ABSTRACT</th>\n",
       "      <th>Computer Science</th>\n",
       "      <th>Physics</th>\n",
       "      <th>Mathematics</th>\n",
       "      <th>Statistics</th>\n",
       "      <th>Quantitative Biology</th>\n",
       "      <th>Quantitative Finance</th>\n",
       "    </tr>\n",
       "  </thead>\n",
       "  <tbody>\n",
       "    <tr>\n",
       "      <th>0</th>\n",
       "      <td>1</td>\n",
       "      <td>Reconstructing Subject-Specific Effect Maps</td>\n",
       "      <td>predictive model allow specific inference anal...</td>\n",
       "      <td>1</td>\n",
       "      <td>0</td>\n",
       "      <td>0</td>\n",
       "      <td>0</td>\n",
       "      <td>0</td>\n",
       "      <td>0</td>\n",
       "    </tr>\n",
       "    <tr>\n",
       "      <th>1</th>\n",
       "      <td>2</td>\n",
       "      <td>Rotation Invariance Neural Network</td>\n",
       "      <td>rotation invariance translation invariance gre...</td>\n",
       "      <td>1</td>\n",
       "      <td>0</td>\n",
       "      <td>0</td>\n",
       "      <td>0</td>\n",
       "      <td>0</td>\n",
       "      <td>0</td>\n",
       "    </tr>\n",
       "    <tr>\n",
       "      <th>2</th>\n",
       "      <td>3</td>\n",
       "      <td>Spherical polyharmonics and Poisson kernels fo...</td>\n",
       "      <td>introduce develop notion spherical polyharmoni...</td>\n",
       "      <td>0</td>\n",
       "      <td>0</td>\n",
       "      <td>1</td>\n",
       "      <td>0</td>\n",
       "      <td>0</td>\n",
       "      <td>0</td>\n",
       "    </tr>\n",
       "    <tr>\n",
       "      <th>3</th>\n",
       "      <td>4</td>\n",
       "      <td>A finite element approximation for the stochas...</td>\n",
       "      <td>stochastic couple maxwell equation call system...</td>\n",
       "      <td>0</td>\n",
       "      <td>0</td>\n",
       "      <td>1</td>\n",
       "      <td>0</td>\n",
       "      <td>0</td>\n",
       "      <td>0</td>\n",
       "    </tr>\n",
       "    <tr>\n",
       "      <th>4</th>\n",
       "      <td>5</td>\n",
       "      <td>Comparative study of Discrete Wavelet Transfor...</td>\n",
       "      <td>fouri red ftir sample plant specie use explore...</td>\n",
       "      <td>1</td>\n",
       "      <td>0</td>\n",
       "      <td>0</td>\n",
       "      <td>1</td>\n",
       "      <td>0</td>\n",
       "      <td>0</td>\n",
       "    </tr>\n",
       "  </tbody>\n",
       "</table>\n",
       "</div>"
      ],
      "text/plain": [
       "   ID                                              TITLE  \\\n",
       "0   1        Reconstructing Subject-Specific Effect Maps   \n",
       "1   2                 Rotation Invariance Neural Network   \n",
       "2   3  Spherical polyharmonics and Poisson kernels fo...   \n",
       "3   4  A finite element approximation for the stochas...   \n",
       "4   5  Comparative study of Discrete Wavelet Transfor...   \n",
       "\n",
       "                                            ABSTRACT  Computer Science  \\\n",
       "0  predictive model allow specific inference anal...                 1   \n",
       "1  rotation invariance translation invariance gre...                 1   \n",
       "2  introduce develop notion spherical polyharmoni...                 0   \n",
       "3  stochastic couple maxwell equation call system...                 0   \n",
       "4  fouri red ftir sample plant specie use explore...                 1   \n",
       "\n",
       "   Physics  Mathematics  Statistics  Quantitative Biology  \\\n",
       "0        0            0           0                     0   \n",
       "1        0            0           0                     0   \n",
       "2        0            1           0                     0   \n",
       "3        0            1           0                     0   \n",
       "4        0            0           1                     0   \n",
       "\n",
       "   Quantitative Finance  \n",
       "0                     0  \n",
       "1                     0  \n",
       "2                     0  \n",
       "3                     0  \n",
       "4                     0  "
      ]
     },
     "execution_count": 13,
     "metadata": {},
     "output_type": "execute_result"
    }
   ],
   "source": [
    "train_respapers = train_respapers.drop(columns=['body_text_nopunc','body_cleantext', 'new_abstract','ABSTRACT_detokenize'], axis=1)\n",
    "train_respapers.head()"
   ]
  },
  {
   "cell_type": "code",
   "execution_count": 14,
   "metadata": {},
   "outputs": [
    {
     "name": "stdout",
     "output_type": "stream",
     "text": [
      "[[1 0 0 0 0 0]\n",
      " [1 0 0 0 0 0]\n",
      " [0 0 1 0 0 0]\n",
      " ...\n",
      " [1 0 0 0 0 0]\n",
      " [0 0 1 1 0 0]\n",
      " [0 0 1 1 0 0]]\n"
     ]
    }
   ],
   "source": [
    "research_labels = train_respapers[[\"Computer Science\", \"Physics\", \"Mathematics\", \"Statistics\", \"Quantitative Biology\", \"Quantitative Finance\"]]\n",
    "research_labels_val=research_labels.values\n",
    "print(research_labels_val)"
   ]
  },
  {
   "cell_type": "markdown",
   "metadata": {},
   "source": [
    "# Step 3: Prepare the Data\n",
    "\n",
    "- Splitting the dataset\n",
    "- Tokenizing the text with texts_to_sequence to transform words to numbers \n",
    "- Using Pad_sequences to ensure all the vectors are of same length\n",
    "- Creating the embedding matrix with pre-trained word embedding GloVe"
   ]
  },
  {
   "cell_type": "code",
   "execution_count": 15,
   "metadata": {},
   "outputs": [
    {
     "name": "stdout",
     "output_type": "stream",
     "text": [
      "(14680,)\n",
      "(14680, 6)\n",
      "(6292,)\n",
      "(6292, 6)\n"
     ]
    }
   ],
   "source": [
    "X_train, X_test, y_train, y_test = train_test_split(\n",
    "train_respapers['ABSTRACT'], research_labels_val, test_size=0.3, random_state=1234, shuffle=True)\n",
    "print(X_train.shape)\n",
    "print(y_train.shape)\n",
    "print(X_test.shape)\n",
    "print(y_test.shape)"
   ]
  },
  {
   "cell_type": "code",
   "execution_count": 16,
   "metadata": {},
   "outputs": [
    {
     "name": "stdout",
     "output_type": "stream",
     "text": [
      "Vocabulary size is  25696\n"
     ]
    }
   ],
   "source": [
    "#Split the text to tokens, using most 5000 frequent words and max len to 200\n",
    "tokenizer = Tokenizer(num_words=5000,lower=True)\n",
    "tokenizer.fit_on_texts(X_train)\n",
    "\n",
    "X_train = tokenizer.texts_to_sequences(X_train)\n",
    "X_test = tokenizer.texts_to_sequences(X_test)\n",
    "\n",
    "vocab_size = len(tokenizer.word_index) + 1\n",
    "\n",
    "maxlen = 200\n",
    "\n",
    "X_train = pad_sequences(X_train, padding='post', maxlen=maxlen)\n",
    "X_test = pad_sequences(X_test, padding='post', maxlen=maxlen)\n",
    "\n",
    "print(\"Vocabulary size is \",vocab_size)"
   ]
  },
  {
   "cell_type": "code",
   "execution_count": 17,
   "metadata": {},
   "outputs": [],
   "source": [
    "#function to create a embedding matrix\n",
    "def create_embedding_matrix(filepath, word_index, embedding_dim):\n",
    "    vocab_size = len(word_index) + 1  # Adding again 1 because of reserved 0 index\n",
    "    embedding_matrix = np.zeros((vocab_size, embedding_dim))\n",
    "\n",
    "    with open(filepath, encoding=\"utf8\") as f:\n",
    "        for line in f:\n",
    "            word, *vector = line.split()\n",
    "            if word in word_index:\n",
    "                idx = word_index[word] \n",
    "                embedding_matrix[idx] = np.array(\n",
    "                    vector, dtype=np.float32)[:embedding_dim]\n",
    "\n",
    "    return embedding_matrix"
   ]
  },
  {
   "cell_type": "code",
   "execution_count": 20,
   "metadata": {},
   "outputs": [
    {
     "name": "stdout",
     "output_type": "stream",
     "text": [
      "found 25696 word vectors\n"
     ]
    }
   ],
   "source": [
    "#Defining the embedding_dim to 100 for Glove and calling the function to create the \n",
    "#embedding matix which goes into the embedding layer\n",
    "embedding_dim = 100\n",
    "embedding_matrix = create_embedding_matrix(\n",
    "     glovepath_file,\n",
    "     tokenizer.word_index, embedding_dim)\n",
    "print('found %s word vectors' % len(embedding_matrix))"
   ]
  },
  {
   "cell_type": "markdown",
   "metadata": {},
   "source": [
    "# Step 4: Build the Model\n",
    "\n",
    "- I am creating the model with configurable parameter of pre-training embedding true or false\n",
    "\n",
    "- Creating the sequential model with\n",
    "\n",
    "  - Single LSTM layer with 0.2 of dropout to prevent the overfitting\n",
    "  - Dense layer with 6 outputs (6labels) with Sigmoid activation because my output is binary(0 or 1)"
   ]
  },
  {
   "cell_type": "code",
   "execution_count": 21,
   "metadata": {},
   "outputs": [],
   "source": [
    "# function that defines the model\n",
    "from keras import Sequential, Model\n",
    "from keras.layers import Embedding,LSTM, GlobalMaxPool1D,Conv1D,Bidirectional\n",
    "from keras.optimizers import Adam, SGD\n",
    "def get_model(pretrainedembedding):\n",
    "    model = Sequential()\n",
    "    if(pretrainedembedding==True):\n",
    "        model.add(Embedding(vocab_size, embedding_dim, weights=[embedding_matrix],trainable=False ,input_length=maxlen))\n",
    "      \n",
    "    else:\n",
    "        model.add(Embedding(vocab_size, embedding_dim ,input_length=maxlen))\n",
    "        \n",
    "    #model.add(Dropout(0.2))\n",
    "    #model.add(LSTM(128,name='lstm_layer',dropout=0.6))\n",
    "    model.add(LSTM(128,name='lstm_layer',dropout=0.2))\n",
    "    model.add(Dropout(0.2))\n",
    "    model.add(Dense(6, activation='sigmoid'))\n",
    "    return model\n",
    "   "
   ]
  },
  {
   "cell_type": "markdown",
   "metadata": {},
   "source": [
    "- I have defined the callback function to save the best model when validation loss is less\n",
    "- I am using 'binary_crossentropy' as i am classifying the multiple labels as my loss function with accuracy metric"
   ]
  },
  {
   "cell_type": "code",
   "execution_count": 22,
   "metadata": {},
   "outputs": [],
   "source": [
    "from keras.callbacks import ModelCheckpoint\n",
    "def fit_model(model,path,opt):\n",
    "#model.compile(loss='binary_crossentropy', optimizer='adam', metrics=['accuracy'])\n",
    "    cm_callback = ModelCheckpoint(path, save_best_only = True, monitor = 'val_loss', verbose = 1)\n",
    "#cm_callback = keras.callbacks.LambdaCallback(on_epoch_end=log_confusion_matrix)\n",
    "    model.compile(loss='binary_crossentropy', optimizer=opt, metrics=['accuracy'])\n",
    "    history=model.fit(X_train, y_train, batch_size=32, epochs=10, verbose=1, validation_split=0.2,\n",
    "                  callbacks=[cm_callback],validation_data=(X_test, y_test))\n",
    "    return(history)"
   ]
  },
  {
   "cell_type": "code",
   "execution_count": 23,
   "metadata": {},
   "outputs": [
    {
     "name": "stdout",
     "output_type": "stream",
     "text": [
      "Model: \"sequential\"\n",
      "_________________________________________________________________\n",
      "Layer (type)                 Output Shape              Param #   \n",
      "=================================================================\n",
      "embedding (Embedding)        (None, 200, 100)          2569600   \n",
      "_________________________________________________________________\n",
      "lstm_layer (LSTM)            (None, 128)               117248    \n",
      "_________________________________________________________________\n",
      "dropout (Dropout)            (None, 128)               0         \n",
      "_________________________________________________________________\n",
      "dense (Dense)                (None, 6)                 774       \n",
      "=================================================================\n",
      "Total params: 2,687,622\n",
      "Trainable params: 118,022\n",
      "Non-trainable params: 2,569,600\n",
      "_________________________________________________________________\n",
      "None\n"
     ]
    }
   ],
   "source": [
    "model_WithDataPreVar = get_model(pretrainedembedding=True)\n",
    "print(model_WithDataPreVar.summary())"
   ]
  },
  {
   "cell_type": "markdown",
   "metadata": {},
   "source": [
    "# Step 5: Train the Model\n",
    "\n",
    "Defines below three function:\n",
    "\n",
    "- Evaluate the model against the test data\n",
    "- To calculate the confusion matrix\n",
    "- Plot the metrics (loss vs epoch) and (accuracy vs epoch) for train and test data"
   ]
  },
  {
   "cell_type": "code",
   "execution_count": 24,
   "metadata": {},
   "outputs": [],
   "source": [
    "# takes path and message as the parameters to save the model and print the custom message\n",
    "import keras\n",
    "def evaluate(path,msg):\n",
    "    lstm_model = keras.models.load_model(path)\n",
    "    test_evaluate = lstm_model.evaluate(X_test, y_test, verbose=1)\n",
    "    print(\"Research Papers Test Score :\" +msg, test_evaluate[0])\n",
    "    print(\"Research Papers Test Accuracy :\" +msg, test_evaluate[1])"
   ]
  },
  {
   "cell_type": "code",
   "execution_count": 25,
   "metadata": {},
   "outputs": [],
   "source": [
    "# takes path and message as the parameters to save the model and print the custom message\n",
    "from sklearn.metrics import multilabel_confusion_matrix,classification_report\n",
    "def confusion_matrix(path,msg):\n",
    "    lstm_model = keras.models.load_model(path)\n",
    "    Y_pred = lstm_model.predict(X_test)\n",
    "    Y_pred  = np.where(Y_pred > 0.5, 1, 0)\n",
    "    print('Confusion Matrix of - ',msg)\n",
    "    target_names = ['Computer Science', 'Physics', 'Mathematics','Statistics','Quantitative Biology','Quantitative Finance']\n",
    "    confusionmatrix=multilabel_confusion_matrix(y_test, Y_pred)\n",
    "    print(confusionmatrix)\n",
    "    print('Classification Report')\n",
    "    print(classification_report(y_test, Y_pred, target_names=target_names,zero_division=0))\n",
    "    print(\"confusion matrix function\")"
   ]
  },
  {
   "cell_type": "code",
   "execution_count": 30,
   "metadata": {},
   "outputs": [],
   "source": [
    "# takes history of the fitted model and message as the parameters \n",
    "import matplotlib.pyplot as plt\n",
    "def plotmetrics(history,msg):\n",
    "    plt.plot(history.history['accuracy'])\n",
    "    plt.plot(history.history['val_accuracy'])\n",
    "\n",
    "    plt.title('model accuracy - '+msg)\n",
    "    plt.ylabel('accuracy')\n",
    "    plt.xlabel('epoch')\n",
    "    plt.legend(['train','test'], loc='upper left')\n",
    "    plt.show()\n",
    "\n",
    "    plt.plot(history.history['loss'])\n",
    "    plt.plot(history.history['val_loss'])\n",
    "\n",
    "    plt.title('model loss - '+msg)\n",
    "    plt.ylabel('loss')\n",
    "    plt.xlabel('epoch')\n",
    "    plt.legend(['train','test'], loc='upper left')\n",
    "    plt.show()"
   ]
  },
  {
   "cell_type": "markdown",
   "metadata": {},
   "source": [
    "**Fit and Evaluate the model**"
   ]
  },
  {
   "cell_type": "code",
   "execution_count": 26,
   "metadata": {},
   "outputs": [
    {
     "name": "stdout",
     "output_type": "stream",
     "text": [
      "Epoch 1/10\n",
      "WARNING:tensorflow:AutoGraph could not transform <bound method Dense.call of <keras.layers.core.Dense object at 0x000001C5A9346C40>> and will run it as-is.\n",
      "Please report this to the TensorFlow team. When filing the bug, set the verbosity to 10 (on Linux, `export AUTOGRAPH_VERBOSITY=10`) and attach the full output.\n",
      "Cause: invalid syntax (tmpmbmd53i9.py, line 48)\n",
      "To silence this warning, decorate the function with @tf.autograph.experimental.do_not_convert\n",
      "WARNING: AutoGraph could not transform <bound method Dense.call of <keras.layers.core.Dense object at 0x000001C5A9346C40>> and will run it as-is.\n",
      "Please report this to the TensorFlow team. When filing the bug, set the verbosity to 10 (on Linux, `export AUTOGRAPH_VERBOSITY=10`) and attach the full output.\n",
      "Cause: invalid syntax (tmpmbmd53i9.py, line 48)\n",
      "To silence this warning, decorate the function with @tf.autograph.experimental.do_not_convert\n",
      "367/367 [==============================] - 36s 66ms/step - loss: 0.4726 - accuracy: 0.3776 - val_loss: 0.4362 - val_accuracy: 0.4029\n",
      "\n",
      "Epoch 00001: val_loss improved from inf to 0.43615, saving model to C:\\Users\\priyanka\\OneDrive - University of Surrey\\NLPCourseWork\\ModelWithDataPreVar.hdf5\n",
      "Epoch 2/10\n",
      "367/367 [==============================] - 24s 65ms/step - loss: 0.4387 - accuracy: 0.4027 - val_loss: 0.4344 - val_accuracy: 0.4029\n",
      "\n",
      "Epoch 00002: val_loss improved from 0.43615 to 0.43445, saving model to C:\\Users\\priyanka\\OneDrive - University of Surrey\\NLPCourseWork\\ModelWithDataPreVar.hdf5\n",
      "Epoch 3/10\n",
      "367/367 [==============================] - 24s 65ms/step - loss: 0.4389 - accuracy: 0.4122 - val_loss: 0.4344 - val_accuracy: 0.4029\n",
      "\n",
      "Epoch 00003: val_loss improved from 0.43445 to 0.43440, saving model to C:\\Users\\priyanka\\OneDrive - University of Surrey\\NLPCourseWork\\ModelWithDataPreVar.hdf5\n",
      "Epoch 4/10\n",
      "367/367 [==============================] - 25s 68ms/step - loss: 0.4369 - accuracy: 0.4064 - val_loss: 0.4344 - val_accuracy: 0.4029\n",
      "\n",
      "Epoch 00004: val_loss did not improve from 0.43440\n",
      "Epoch 5/10\n",
      "367/367 [==============================] - 25s 69ms/step - loss: 0.4367 - accuracy: 0.4156 - val_loss: 0.4345 - val_accuracy: 0.4029\n",
      "\n",
      "Epoch 00005: val_loss did not improve from 0.43440\n",
      "Epoch 6/10\n",
      "367/367 [==============================] - 26s 70ms/step - loss: 0.4358 - accuracy: 0.4110 - val_loss: 0.4345 - val_accuracy: 0.4029\n",
      "\n",
      "Epoch 00006: val_loss did not improve from 0.43440\n",
      "Epoch 7/10\n",
      "367/367 [==============================] - 25s 67ms/step - loss: 0.4381 - accuracy: 0.4090 - val_loss: 0.4343 - val_accuracy: 0.4029\n",
      "\n",
      "Epoch 00007: val_loss improved from 0.43440 to 0.43434, saving model to C:\\Users\\priyanka\\OneDrive - University of Surrey\\NLPCourseWork\\ModelWithDataPreVar.hdf5\n",
      "Epoch 8/10\n",
      "367/367 [==============================] - 24s 67ms/step - loss: 0.4375 - accuracy: 0.4148 - val_loss: 0.4345 - val_accuracy: 0.4029\n",
      "\n",
      "Epoch 00008: val_loss did not improve from 0.43434\n",
      "Epoch 9/10\n",
      "367/367 [==============================] - 26s 70ms/step - loss: 0.4360 - accuracy: 0.4043 - val_loss: 0.4344 - val_accuracy: 0.4029\n",
      "\n",
      "Epoch 00009: val_loss did not improve from 0.43434\n",
      "Epoch 10/10\n",
      "367/367 [==============================] - 26s 72ms/step - loss: 0.4350 - accuracy: 0.4084 - val_loss: 0.4346 - val_accuracy: 0.4029\n",
      "\n",
      "Epoch 00010: val_loss did not improve from 0.43434\n"
     ]
    }
   ],
   "source": [
    "model_WithDataPreVar_his=fit_model(model_WithDataPreVar,modelpath_WithDataPreVar,'adam')"
   ]
  },
  {
   "cell_type": "code",
   "execution_count": 27,
   "metadata": {},
   "outputs": [
    {
     "name": "stdout",
     "output_type": "stream",
     "text": [
      "The path of the saved model is C:\\Users\\priyanka\\OneDrive - University of Surrey\\NLPCourseWork\\ModelWithDataPreVar.hdf5\n",
      "197/197 [==============================] - 5s 24ms/step - loss: 0.4345 - accuracy: 0.4153\n",
      "Research Papers Test Score :(Model with Pretrained Embedding) 0.4344973564147949\n",
      "Research Papers Test Accuracy :(Model with Pretrained Embedding) 0.4152892529964447\n",
      "Confusion Matrix of -  for model with pretrained embedding\n",
      "[[[3679    0]\n",
      "  [2613    0]]\n",
      "\n",
      " [[4482    0]\n",
      "  [1810    0]]\n",
      "\n",
      " [[4634    0]\n",
      "  [1658    0]]\n",
      "\n",
      " [[4759    0]\n",
      "  [1533    0]]\n",
      "\n",
      " [[6114    0]\n",
      "  [ 178    0]]\n",
      "\n",
      " [[6216    0]\n",
      "  [  76    0]]]\n",
      "Classification Report\n",
      "                      precision    recall  f1-score   support\n",
      "\n",
      "    Computer Science       0.00      0.00      0.00      2613\n",
      "             Physics       0.00      0.00      0.00      1810\n",
      "         Mathematics       0.00      0.00      0.00      1658\n",
      "          Statistics       0.00      0.00      0.00      1533\n",
      "Quantitative Biology       0.00      0.00      0.00       178\n",
      "Quantitative Finance       0.00      0.00      0.00        76\n",
      "\n",
      "           micro avg       0.00      0.00      0.00      7868\n",
      "           macro avg       0.00      0.00      0.00      7868\n",
      "        weighted avg       0.00      0.00      0.00      7868\n",
      "         samples avg       0.00      0.00      0.00      7868\n",
      "\n",
      "confusion matrix function\n"
     ]
    }
   ],
   "source": [
    "print(\"The path of the saved model is \"+modelpath_WithDataPreVar)\n",
    "evaluate(modelpath_WithDataPreVar,\"(Model with Pretrained Embedding)\")\n",
    "confusion_matrix(modelpath_WithDataPreVar,\"for model with pretrained embedding\")"
   ]
  },
  {
   "cell_type": "code",
   "execution_count": 31,
   "metadata": {
    "scrolled": true
   },
   "outputs": [
    {
     "data": {
      "image/png": "[encoded data removed]",
      "text/plain": [
       "<Figure size 432x288 with 1 Axes>"
      ]
     },
     "metadata": {},
     "output_type": "display_data"
    },
    {
     "data": {
      "image/png": "[encoded data removed]",
      "text/plain": [
       "<Figure size 432x288 with 1 Axes>"
      ]
     },
     "metadata": {},
     "output_type": "display_data"
    }
   ],
   "source": [
    "plotmetrics(model_WithDataPreVar_his,\"with pretrained embedding\")"
   ]
  },
  {
   "cell_type": "markdown",
   "metadata": {},
   "source": [
    "**Conclusion :**\n",
    "\n",
    "- From the results i can infer that the Stopwords, lemmatizing technique leading to low learning rate of this model\n",
    "- Model is overfitting with unable to learn for the test data\n",
    "   \n",
    "  "
   ]
  },
  {
   "cell_type": "code",
   "execution_count": null,
   "metadata": {},
   "outputs": [],
   "source": []
  }
 ],
 "metadata": {
  "colab": {
   "authorship_tag": "ABX9TyNRsKP/AcSqfMvm1AzuV37i",
   "collapsed_sections": [],
   "name": "Untitled0.ipynb",
   "provenance": []
  },
  "kernelspec": {
   "display_name": "Python 3",
   "language": "python",
   "name": "python3"
  },
  "language_info": {
   "codemirror_mode": {
    "name": "ipython",
    "version": 3
   },
   "file_extension": ".py",
   "mimetype": "text/x-python",
   "name": "python",
   "nbconvert_exporter": "python",
   "pygments_lexer": "ipython3",
   "version": "3.9.1"
  }
 },
 "nbformat": 4,
 "nbformat_minor": 1
}
